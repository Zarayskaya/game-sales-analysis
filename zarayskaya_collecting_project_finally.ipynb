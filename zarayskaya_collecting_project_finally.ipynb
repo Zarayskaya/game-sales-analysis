{
 "cells": [
  {
   "cell_type": "markdown",
   "id": "9af98430",
   "metadata": {},
   "source": [
    "# Проект \"Анализ исторических данных с построением прогноза продаж\""
   ]
  },
  {
   "cell_type": "markdown",
   "id": "bb7d7afd",
   "metadata": {},
   "source": [
    "Доступны исторические данные о продажах игр, оценки пользователей и экспертов, жанры и платформы. Необходимо выявить определяющие успешность игры закономерности. Исследование необходимо для проверки популярности продукта и планирования рекламных компаний."
   ]
  },
  {
   "cell_type": "markdown",
   "id": "da1c3a14",
   "metadata": {},
   "source": [
    "## Изучение предоставленных данных"
   ]
  },
  {
   "cell_type": "code",
   "execution_count": 1,
   "id": "d6c490d5",
   "metadata": {},
   "outputs": [],
   "source": [
    "#импорт библиотек для работы\n",
    "import pandas as pd\n",
    "import numpy as np\n",
    "import matplotlib.pyplot as plt\n",
    "import seaborn as sns\n",
    "from scipy import stats as st"
   ]
  },
  {
   "cell_type": "code",
   "execution_count": 2,
   "id": "a1ce6a4f",
   "metadata": {},
   "outputs": [],
   "source": [
    "#загрузка файла\n",
    "try:\n",
    "    data = pd.read_csv('https://raw.githubusercontent.com/Zarayskaya/game-sales-analysis/main/games.csv')\n",
    "except FileNotFoundError:\n",
    "    data = pd.read_csv('/datasets/games.csv')"
   ]
  },
  {
   "cell_type": "code",
   "execution_count": 3,
   "id": "281f00a9",
   "metadata": {},
   "outputs": [
    {
     "data": {
      "text/html": [
       "<div>\n",
       "<style scoped>\n",
       "    .dataframe tbody tr th:only-of-type {\n",
       "        vertical-align: middle;\n",
       "    }\n",
       "\n",
       "    .dataframe tbody tr th {\n",
       "        vertical-align: top;\n",
       "    }\n",
       "\n",
       "    .dataframe thead th {\n",
       "        text-align: right;\n",
       "    }\n",
       "</style>\n",
       "<table border=\"1\" class=\"dataframe\">\n",
       "  <thead>\n",
       "    <tr style=\"text-align: right;\">\n",
       "      <th></th>\n",
       "      <th>Name</th>\n",
       "      <th>Platform</th>\n",
       "      <th>Year_of_Release</th>\n",
       "      <th>Genre</th>\n",
       "      <th>NA_sales</th>\n",
       "      <th>EU_sales</th>\n",
       "      <th>JP_sales</th>\n",
       "      <th>Other_sales</th>\n",
       "      <th>Critic_Score</th>\n",
       "      <th>User_Score</th>\n",
       "      <th>Rating</th>\n",
       "    </tr>\n",
       "  </thead>\n",
       "  <tbody>\n",
       "    <tr>\n",
       "      <th>0</th>\n",
       "      <td>Wii Sports</td>\n",
       "      <td>Wii</td>\n",
       "      <td>2006.0</td>\n",
       "      <td>Sports</td>\n",
       "      <td>41.36</td>\n",
       "      <td>28.96</td>\n",
       "      <td>3.77</td>\n",
       "      <td>8.45</td>\n",
       "      <td>76.0</td>\n",
       "      <td>8</td>\n",
       "      <td>E</td>\n",
       "    </tr>\n",
       "    <tr>\n",
       "      <th>1</th>\n",
       "      <td>Super Mario Bros.</td>\n",
       "      <td>NES</td>\n",
       "      <td>1985.0</td>\n",
       "      <td>Platform</td>\n",
       "      <td>29.08</td>\n",
       "      <td>3.58</td>\n",
       "      <td>6.81</td>\n",
       "      <td>0.77</td>\n",
       "      <td>NaN</td>\n",
       "      <td>NaN</td>\n",
       "      <td>NaN</td>\n",
       "    </tr>\n",
       "    <tr>\n",
       "      <th>2</th>\n",
       "      <td>Mario Kart Wii</td>\n",
       "      <td>Wii</td>\n",
       "      <td>2008.0</td>\n",
       "      <td>Racing</td>\n",
       "      <td>15.68</td>\n",
       "      <td>12.76</td>\n",
       "      <td>3.79</td>\n",
       "      <td>3.29</td>\n",
       "      <td>82.0</td>\n",
       "      <td>8.3</td>\n",
       "      <td>E</td>\n",
       "    </tr>\n",
       "    <tr>\n",
       "      <th>3</th>\n",
       "      <td>Wii Sports Resort</td>\n",
       "      <td>Wii</td>\n",
       "      <td>2009.0</td>\n",
       "      <td>Sports</td>\n",
       "      <td>15.61</td>\n",
       "      <td>10.93</td>\n",
       "      <td>3.28</td>\n",
       "      <td>2.95</td>\n",
       "      <td>80.0</td>\n",
       "      <td>8</td>\n",
       "      <td>E</td>\n",
       "    </tr>\n",
       "    <tr>\n",
       "      <th>4</th>\n",
       "      <td>Pokemon Red/Pokemon Blue</td>\n",
       "      <td>GB</td>\n",
       "      <td>1996.0</td>\n",
       "      <td>Role-Playing</td>\n",
       "      <td>11.27</td>\n",
       "      <td>8.89</td>\n",
       "      <td>10.22</td>\n",
       "      <td>1.00</td>\n",
       "      <td>NaN</td>\n",
       "      <td>NaN</td>\n",
       "      <td>NaN</td>\n",
       "    </tr>\n",
       "    <tr>\n",
       "      <th>5</th>\n",
       "      <td>Tetris</td>\n",
       "      <td>GB</td>\n",
       "      <td>1989.0</td>\n",
       "      <td>Puzzle</td>\n",
       "      <td>23.20</td>\n",
       "      <td>2.26</td>\n",
       "      <td>4.22</td>\n",
       "      <td>0.58</td>\n",
       "      <td>NaN</td>\n",
       "      <td>NaN</td>\n",
       "      <td>NaN</td>\n",
       "    </tr>\n",
       "    <tr>\n",
       "      <th>6</th>\n",
       "      <td>New Super Mario Bros.</td>\n",
       "      <td>DS</td>\n",
       "      <td>2006.0</td>\n",
       "      <td>Platform</td>\n",
       "      <td>11.28</td>\n",
       "      <td>9.14</td>\n",
       "      <td>6.50</td>\n",
       "      <td>2.88</td>\n",
       "      <td>89.0</td>\n",
       "      <td>8.5</td>\n",
       "      <td>E</td>\n",
       "    </tr>\n",
       "    <tr>\n",
       "      <th>7</th>\n",
       "      <td>Wii Play</td>\n",
       "      <td>Wii</td>\n",
       "      <td>2006.0</td>\n",
       "      <td>Misc</td>\n",
       "      <td>13.96</td>\n",
       "      <td>9.18</td>\n",
       "      <td>2.93</td>\n",
       "      <td>2.84</td>\n",
       "      <td>58.0</td>\n",
       "      <td>6.6</td>\n",
       "      <td>E</td>\n",
       "    </tr>\n",
       "    <tr>\n",
       "      <th>8</th>\n",
       "      <td>New Super Mario Bros. Wii</td>\n",
       "      <td>Wii</td>\n",
       "      <td>2009.0</td>\n",
       "      <td>Platform</td>\n",
       "      <td>14.44</td>\n",
       "      <td>6.94</td>\n",
       "      <td>4.70</td>\n",
       "      <td>2.24</td>\n",
       "      <td>87.0</td>\n",
       "      <td>8.4</td>\n",
       "      <td>E</td>\n",
       "    </tr>\n",
       "    <tr>\n",
       "      <th>9</th>\n",
       "      <td>Duck Hunt</td>\n",
       "      <td>NES</td>\n",
       "      <td>1984.0</td>\n",
       "      <td>Shooter</td>\n",
       "      <td>26.93</td>\n",
       "      <td>0.63</td>\n",
       "      <td>0.28</td>\n",
       "      <td>0.47</td>\n",
       "      <td>NaN</td>\n",
       "      <td>NaN</td>\n",
       "      <td>NaN</td>\n",
       "    </tr>\n",
       "    <tr>\n",
       "      <th>10</th>\n",
       "      <td>Nintendogs</td>\n",
       "      <td>DS</td>\n",
       "      <td>2005.0</td>\n",
       "      <td>Simulation</td>\n",
       "      <td>9.05</td>\n",
       "      <td>10.95</td>\n",
       "      <td>1.93</td>\n",
       "      <td>2.74</td>\n",
       "      <td>NaN</td>\n",
       "      <td>NaN</td>\n",
       "      <td>NaN</td>\n",
       "    </tr>\n",
       "    <tr>\n",
       "      <th>11</th>\n",
       "      <td>Mario Kart DS</td>\n",
       "      <td>DS</td>\n",
       "      <td>2005.0</td>\n",
       "      <td>Racing</td>\n",
       "      <td>9.71</td>\n",
       "      <td>7.47</td>\n",
       "      <td>4.13</td>\n",
       "      <td>1.90</td>\n",
       "      <td>91.0</td>\n",
       "      <td>8.6</td>\n",
       "      <td>E</td>\n",
       "    </tr>\n",
       "    <tr>\n",
       "      <th>12</th>\n",
       "      <td>Pokemon Gold/Pokemon Silver</td>\n",
       "      <td>GB</td>\n",
       "      <td>1999.0</td>\n",
       "      <td>Role-Playing</td>\n",
       "      <td>9.00</td>\n",
       "      <td>6.18</td>\n",
       "      <td>7.20</td>\n",
       "      <td>0.71</td>\n",
       "      <td>NaN</td>\n",
       "      <td>NaN</td>\n",
       "      <td>NaN</td>\n",
       "    </tr>\n",
       "    <tr>\n",
       "      <th>13</th>\n",
       "      <td>Wii Fit</td>\n",
       "      <td>Wii</td>\n",
       "      <td>2007.0</td>\n",
       "      <td>Sports</td>\n",
       "      <td>8.92</td>\n",
       "      <td>8.03</td>\n",
       "      <td>3.60</td>\n",
       "      <td>2.15</td>\n",
       "      <td>80.0</td>\n",
       "      <td>7.7</td>\n",
       "      <td>E</td>\n",
       "    </tr>\n",
       "    <tr>\n",
       "      <th>14</th>\n",
       "      <td>Kinect Adventures!</td>\n",
       "      <td>X360</td>\n",
       "      <td>2010.0</td>\n",
       "      <td>Misc</td>\n",
       "      <td>15.00</td>\n",
       "      <td>4.89</td>\n",
       "      <td>0.24</td>\n",
       "      <td>1.69</td>\n",
       "      <td>61.0</td>\n",
       "      <td>6.3</td>\n",
       "      <td>E</td>\n",
       "    </tr>\n",
       "    <tr>\n",
       "      <th>15</th>\n",
       "      <td>Wii Fit Plus</td>\n",
       "      <td>Wii</td>\n",
       "      <td>2009.0</td>\n",
       "      <td>Sports</td>\n",
       "      <td>9.01</td>\n",
       "      <td>8.49</td>\n",
       "      <td>2.53</td>\n",
       "      <td>1.77</td>\n",
       "      <td>80.0</td>\n",
       "      <td>7.4</td>\n",
       "      <td>E</td>\n",
       "    </tr>\n",
       "    <tr>\n",
       "      <th>16</th>\n",
       "      <td>Grand Theft Auto V</td>\n",
       "      <td>PS3</td>\n",
       "      <td>2013.0</td>\n",
       "      <td>Action</td>\n",
       "      <td>7.02</td>\n",
       "      <td>9.09</td>\n",
       "      <td>0.98</td>\n",
       "      <td>3.96</td>\n",
       "      <td>97.0</td>\n",
       "      <td>8.2</td>\n",
       "      <td>M</td>\n",
       "    </tr>\n",
       "    <tr>\n",
       "      <th>17</th>\n",
       "      <td>Grand Theft Auto: San Andreas</td>\n",
       "      <td>PS2</td>\n",
       "      <td>2004.0</td>\n",
       "      <td>Action</td>\n",
       "      <td>9.43</td>\n",
       "      <td>0.40</td>\n",
       "      <td>0.41</td>\n",
       "      <td>10.57</td>\n",
       "      <td>95.0</td>\n",
       "      <td>9</td>\n",
       "      <td>M</td>\n",
       "    </tr>\n",
       "    <tr>\n",
       "      <th>18</th>\n",
       "      <td>Super Mario World</td>\n",
       "      <td>SNES</td>\n",
       "      <td>1990.0</td>\n",
       "      <td>Platform</td>\n",
       "      <td>12.78</td>\n",
       "      <td>3.75</td>\n",
       "      <td>3.54</td>\n",
       "      <td>0.55</td>\n",
       "      <td>NaN</td>\n",
       "      <td>NaN</td>\n",
       "      <td>NaN</td>\n",
       "    </tr>\n",
       "    <tr>\n",
       "      <th>19</th>\n",
       "      <td>Brain Age: Train Your Brain in Minutes a Day</td>\n",
       "      <td>DS</td>\n",
       "      <td>2005.0</td>\n",
       "      <td>Misc</td>\n",
       "      <td>4.74</td>\n",
       "      <td>9.20</td>\n",
       "      <td>4.16</td>\n",
       "      <td>2.04</td>\n",
       "      <td>77.0</td>\n",
       "      <td>7.9</td>\n",
       "      <td>E</td>\n",
       "    </tr>\n",
       "  </tbody>\n",
       "</table>\n",
       "</div>"
      ],
      "text/plain": [
       "                                            Name Platform  Year_of_Release  \\\n",
       "0                                     Wii Sports      Wii           2006.0   \n",
       "1                              Super Mario Bros.      NES           1985.0   \n",
       "2                                 Mario Kart Wii      Wii           2008.0   \n",
       "3                              Wii Sports Resort      Wii           2009.0   \n",
       "4                       Pokemon Red/Pokemon Blue       GB           1996.0   \n",
       "5                                         Tetris       GB           1989.0   \n",
       "6                          New Super Mario Bros.       DS           2006.0   \n",
       "7                                       Wii Play      Wii           2006.0   \n",
       "8                      New Super Mario Bros. Wii      Wii           2009.0   \n",
       "9                                      Duck Hunt      NES           1984.0   \n",
       "10                                    Nintendogs       DS           2005.0   \n",
       "11                                 Mario Kart DS       DS           2005.0   \n",
       "12                   Pokemon Gold/Pokemon Silver       GB           1999.0   \n",
       "13                                       Wii Fit      Wii           2007.0   \n",
       "14                            Kinect Adventures!     X360           2010.0   \n",
       "15                                  Wii Fit Plus      Wii           2009.0   \n",
       "16                            Grand Theft Auto V      PS3           2013.0   \n",
       "17                 Grand Theft Auto: San Andreas      PS2           2004.0   \n",
       "18                             Super Mario World     SNES           1990.0   \n",
       "19  Brain Age: Train Your Brain in Minutes a Day       DS           2005.0   \n",
       "\n",
       "           Genre  NA_sales  EU_sales  JP_sales  Other_sales  Critic_Score  \\\n",
       "0         Sports     41.36     28.96      3.77         8.45          76.0   \n",
       "1       Platform     29.08      3.58      6.81         0.77           NaN   \n",
       "2         Racing     15.68     12.76      3.79         3.29          82.0   \n",
       "3         Sports     15.61     10.93      3.28         2.95          80.0   \n",
       "4   Role-Playing     11.27      8.89     10.22         1.00           NaN   \n",
       "5         Puzzle     23.20      2.26      4.22         0.58           NaN   \n",
       "6       Platform     11.28      9.14      6.50         2.88          89.0   \n",
       "7           Misc     13.96      9.18      2.93         2.84          58.0   \n",
       "8       Platform     14.44      6.94      4.70         2.24          87.0   \n",
       "9        Shooter     26.93      0.63      0.28         0.47           NaN   \n",
       "10    Simulation      9.05     10.95      1.93         2.74           NaN   \n",
       "11        Racing      9.71      7.47      4.13         1.90          91.0   \n",
       "12  Role-Playing      9.00      6.18      7.20         0.71           NaN   \n",
       "13        Sports      8.92      8.03      3.60         2.15          80.0   \n",
       "14          Misc     15.00      4.89      0.24         1.69          61.0   \n",
       "15        Sports      9.01      8.49      2.53         1.77          80.0   \n",
       "16        Action      7.02      9.09      0.98         3.96          97.0   \n",
       "17        Action      9.43      0.40      0.41        10.57          95.0   \n",
       "18      Platform     12.78      3.75      3.54         0.55           NaN   \n",
       "19          Misc      4.74      9.20      4.16         2.04          77.0   \n",
       "\n",
       "   User_Score Rating  \n",
       "0           8      E  \n",
       "1         NaN    NaN  \n",
       "2         8.3      E  \n",
       "3           8      E  \n",
       "4         NaN    NaN  \n",
       "5         NaN    NaN  \n",
       "6         8.5      E  \n",
       "7         6.6      E  \n",
       "8         8.4      E  \n",
       "9         NaN    NaN  \n",
       "10        NaN    NaN  \n",
       "11        8.6      E  \n",
       "12        NaN    NaN  \n",
       "13        7.7      E  \n",
       "14        6.3      E  \n",
       "15        7.4      E  \n",
       "16        8.2      M  \n",
       "17          9      M  \n",
       "18        NaN    NaN  \n",
       "19        7.9      E  "
      ]
     },
     "metadata": {},
     "output_type": "display_data"
    },
    {
     "name": "stdout",
     "output_type": "stream",
     "text": [
      "<class 'pandas.core.frame.DataFrame'>\n",
      "RangeIndex: 16715 entries, 0 to 16714\n",
      "Data columns (total 11 columns):\n",
      " #   Column           Non-Null Count  Dtype  \n",
      "---  ------           --------------  -----  \n",
      " 0   Name             16713 non-null  object \n",
      " 1   Platform         16715 non-null  object \n",
      " 2   Year_of_Release  16446 non-null  float64\n",
      " 3   Genre            16713 non-null  object \n",
      " 4   NA_sales         16715 non-null  float64\n",
      " 5   EU_sales         16715 non-null  float64\n",
      " 6   JP_sales         16715 non-null  float64\n",
      " 7   Other_sales      16715 non-null  float64\n",
      " 8   Critic_Score     8137 non-null   float64\n",
      " 9   User_Score       10014 non-null  object \n",
      " 10  Rating           9949 non-null   object \n",
      "dtypes: float64(6), object(5)\n",
      "memory usage: 1.4+ MB\n"
     ]
    },
    {
     "data": {
      "text/html": [
       "<div>\n",
       "<style scoped>\n",
       "    .dataframe tbody tr th:only-of-type {\n",
       "        vertical-align: middle;\n",
       "    }\n",
       "\n",
       "    .dataframe tbody tr th {\n",
       "        vertical-align: top;\n",
       "    }\n",
       "\n",
       "    .dataframe thead th {\n",
       "        text-align: right;\n",
       "    }\n",
       "</style>\n",
       "<table border=\"1\" class=\"dataframe\">\n",
       "  <thead>\n",
       "    <tr style=\"text-align: right;\">\n",
       "      <th></th>\n",
       "      <th>Year_of_Release</th>\n",
       "      <th>NA_sales</th>\n",
       "      <th>EU_sales</th>\n",
       "      <th>JP_sales</th>\n",
       "      <th>Other_sales</th>\n",
       "      <th>Critic_Score</th>\n",
       "    </tr>\n",
       "  </thead>\n",
       "  <tbody>\n",
       "    <tr>\n",
       "      <th>count</th>\n",
       "      <td>16446.000000</td>\n",
       "      <td>16715.000000</td>\n",
       "      <td>16715.000000</td>\n",
       "      <td>16715.000000</td>\n",
       "      <td>16715.000000</td>\n",
       "      <td>8137.000000</td>\n",
       "    </tr>\n",
       "    <tr>\n",
       "      <th>mean</th>\n",
       "      <td>2006.484616</td>\n",
       "      <td>0.263377</td>\n",
       "      <td>0.145060</td>\n",
       "      <td>0.077617</td>\n",
       "      <td>0.047342</td>\n",
       "      <td>68.967679</td>\n",
       "    </tr>\n",
       "    <tr>\n",
       "      <th>std</th>\n",
       "      <td>5.877050</td>\n",
       "      <td>0.813604</td>\n",
       "      <td>0.503339</td>\n",
       "      <td>0.308853</td>\n",
       "      <td>0.186731</td>\n",
       "      <td>13.938165</td>\n",
       "    </tr>\n",
       "    <tr>\n",
       "      <th>min</th>\n",
       "      <td>1980.000000</td>\n",
       "      <td>0.000000</td>\n",
       "      <td>0.000000</td>\n",
       "      <td>0.000000</td>\n",
       "      <td>0.000000</td>\n",
       "      <td>13.000000</td>\n",
       "    </tr>\n",
       "    <tr>\n",
       "      <th>25%</th>\n",
       "      <td>2003.000000</td>\n",
       "      <td>0.000000</td>\n",
       "      <td>0.000000</td>\n",
       "      <td>0.000000</td>\n",
       "      <td>0.000000</td>\n",
       "      <td>60.000000</td>\n",
       "    </tr>\n",
       "    <tr>\n",
       "      <th>50%</th>\n",
       "      <td>2007.000000</td>\n",
       "      <td>0.080000</td>\n",
       "      <td>0.020000</td>\n",
       "      <td>0.000000</td>\n",
       "      <td>0.010000</td>\n",
       "      <td>71.000000</td>\n",
       "    </tr>\n",
       "    <tr>\n",
       "      <th>75%</th>\n",
       "      <td>2010.000000</td>\n",
       "      <td>0.240000</td>\n",
       "      <td>0.110000</td>\n",
       "      <td>0.040000</td>\n",
       "      <td>0.030000</td>\n",
       "      <td>79.000000</td>\n",
       "    </tr>\n",
       "    <tr>\n",
       "      <th>max</th>\n",
       "      <td>2016.000000</td>\n",
       "      <td>41.360000</td>\n",
       "      <td>28.960000</td>\n",
       "      <td>10.220000</td>\n",
       "      <td>10.570000</td>\n",
       "      <td>98.000000</td>\n",
       "    </tr>\n",
       "  </tbody>\n",
       "</table>\n",
       "</div>"
      ],
      "text/plain": [
       "       Year_of_Release      NA_sales      EU_sales      JP_sales  \\\n",
       "count     16446.000000  16715.000000  16715.000000  16715.000000   \n",
       "mean       2006.484616      0.263377      0.145060      0.077617   \n",
       "std           5.877050      0.813604      0.503339      0.308853   \n",
       "min        1980.000000      0.000000      0.000000      0.000000   \n",
       "25%        2003.000000      0.000000      0.000000      0.000000   \n",
       "50%        2007.000000      0.080000      0.020000      0.000000   \n",
       "75%        2010.000000      0.240000      0.110000      0.040000   \n",
       "max        2016.000000     41.360000     28.960000     10.220000   \n",
       "\n",
       "        Other_sales  Critic_Score  \n",
       "count  16715.000000   8137.000000  \n",
       "mean       0.047342     68.967679  \n",
       "std        0.186731     13.938165  \n",
       "min        0.000000     13.000000  \n",
       "25%        0.000000     60.000000  \n",
       "50%        0.010000     71.000000  \n",
       "75%        0.030000     79.000000  \n",
       "max       10.570000     98.000000  "
      ]
     },
     "metadata": {},
     "output_type": "display_data"
    },
    {
     "name": "stdout",
     "output_type": "stream",
     "text": [
      "0\n"
     ]
    }
   ],
   "source": [
    "#знакомство с информацией\n",
    "def data_info(data):\n",
    "    display(data.head(20)), data.info(), display(data.describe()), print(data.duplicated().sum())\n",
    "data_info(data)"
   ]
  },
  {
   "cell_type": "markdown",
   "id": "82d06ddb",
   "metadata": {},
   "source": [
    "В представленных данных 16715 строк. Имеются пропуски, отсутствуют явные дубликаты. Данные читаемы, подходят для работы."
   ]
  },
  {
   "cell_type": "markdown",
   "id": "50b189a3",
   "metadata": {},
   "source": [
    "Имеется аннотация к данным:\n",
    "<br>•\t**Name** — название игры\n",
    "<br>•\t**Platform** — платформа\n",
    "<br>•\t**Year_of_Release** — год выпуска\n",
    "<br>•\t**Genre** — жанр игры\n",
    "<br>•\t**NA_sales** — продажи в Северной Америке (миллионы проданных копий)\n",
    "<br>•\t**EU_sales** — продажи в Европе (миллионы проданных копий)\n",
    "<br>•\t**JP_sales** — продажи в Японии (миллионы проданных копий)\n",
    "<br>•\t**Other_sales** — продажи в других странах (миллионы проданных копий)\n",
    "<br>•\t**Critic_Score** — оценка критиков (максимум 100)\n",
    "<br>•\t**User_Score** — оценка пользователей (максимум 10)\n",
    "<br>•\t**Rating** — рейтинг от организации ESRB (Entertainment Software Rating Board). Эта ассоциация определяет рейтинг компьютерных игр и присваивает им подходящую возрастную категорию.\n",
    "<br>Данные за 2016 год могут быть неполными."
   ]
  },
  {
   "cell_type": "markdown",
   "id": "8518eb4b",
   "metadata": {},
   "source": [
    "## Предобработка данных"
   ]
  },
  {
   "cell_type": "markdown",
   "id": "4b3cfc3f",
   "metadata": {},
   "source": [
    "В представленном датафрейме столбцы именованы с заглавных букв, есть пропуски, некоторые типы данных не соответствуют значениям. Это неудобно в работе, стоит исправить:"
   ]
  },
  {
   "cell_type": "markdown",
   "id": "8a8810f9",
   "metadata": {},
   "source": [
    "### Изменение стиля написания"
   ]
  },
  {
   "cell_type": "code",
   "execution_count": 4,
   "id": "4856cd8c",
   "metadata": {},
   "outputs": [
    {
     "name": "stdout",
     "output_type": "stream",
     "text": [
      "Index(['name', 'platform', 'year_of_release', 'genre', 'na_sales', 'eu_sales',\n",
      "       'jp_sales', 'other_sales', 'critic_score', 'user_score', 'rating'],\n",
      "      dtype='object')\n"
     ]
    }
   ],
   "source": [
    "#приведение названий к единому стилю написания:\n",
    "data.columns = data.columns.str.lower()\n",
    "print(data.columns)"
   ]
  },
  {
   "cell_type": "markdown",
   "id": "bb88564e",
   "metadata": {},
   "source": [
    "### Изменение типов данных"
   ]
  },
  {
   "cell_type": "code",
   "execution_count": 5,
   "id": "32733f93",
   "metadata": {},
   "outputs": [
    {
     "data": {
      "text/plain": [
       "name                object\n",
       "platform            object\n",
       "year_of_release    float64\n",
       "genre               object\n",
       "na_sales           float64\n",
       "eu_sales           float64\n",
       "jp_sales           float64\n",
       "other_sales        float64\n",
       "critic_score       float64\n",
       "user_score          object\n",
       "rating              object\n",
       "dtype: object"
      ]
     },
     "execution_count": 5,
     "metadata": {},
     "output_type": "execute_result"
    }
   ],
   "source": [
    "data.dtypes"
   ]
  },
  {
   "cell_type": "markdown",
   "id": "cfa89bc3",
   "metadata": {},
   "source": [
    "Столбец с годом выпуска точно имеет целочисленное значение. В дальнейшем будет происходить группировка данных по годам выпуска, поэтому для удобства чтения и визуального восприятия, стоит заменить тип. Точно также в дальнейшем будет исследоваться пользовательский рейтинг, поэтому необходимо перевести тип данных из строкового значения в числовой."
   ]
  },
  {
   "cell_type": "markdown",
   "id": "5b2e6a8d",
   "metadata": {},
   "source": [
    "Замене формата подлежат столбцы year_of_release и user_score. Однако перед заменой необходимо предварительно обработать в них значения во избежание ошибок. Также заменим все float64 на float32 для экономии памяти."
   ]
  },
  {
   "cell_type": "code",
   "execution_count": 6,
   "id": "4534d0c1",
   "metadata": {},
   "outputs": [],
   "source": [
    "#в столбце year_of_release есть пропуски, они не позволят перевести данные в целочисленный тип. Заменим пока что их на 0:\n",
    "data['year_of_release'].fillna(value=0, inplace=True)"
   ]
  },
  {
   "cell_type": "code",
   "execution_count": 7,
   "id": "e61611fc",
   "metadata": {},
   "outputs": [
    {
     "data": {
      "text/plain": [
       "array(['8', nan, '8.3', '8.5', '6.6', '8.4', '8.6', '7.7', '6.3', '7.4',\n",
       "       '8.2', '9', '7.9', '8.1', '8.7', '7.1', '3.4', '5.3', '4.8', '3.2',\n",
       "       '8.9', '6.4', '7.8', '7.5', '2.6', '7.2', '9.2', '7', '7.3', '4.3',\n",
       "       '7.6', '5.7', '5', '9.1', '6.5', 'tbd', '8.8', '6.9', '9.4', '6.8',\n",
       "       '6.1', '6.7', '5.4', '4', '4.9', '4.5', '9.3', '6.2', '4.2', '6',\n",
       "       '3.7', '4.1', '5.8', '5.6', '5.5', '4.4', '4.6', '5.9', '3.9',\n",
       "       '3.1', '2.9', '5.2', '3.3', '4.7', '5.1', '3.5', '2.5', '1.9', '3',\n",
       "       '2.7', '2.2', '2', '9.5', '2.1', '3.6', '2.8', '1.8', '3.8', '0',\n",
       "       '1.6', '9.6', '2.4', '1.7', '1.1', '0.3', '1.5', '0.7', '1.2',\n",
       "       '2.3', '0.5', '1.3', '0.2', '0.6', '1.4', '0.9', '1', '9.7'],\n",
       "      dtype=object)"
      ]
     },
     "execution_count": 7,
     "metadata": {},
     "output_type": "execute_result"
    }
   ],
   "source": [
    "#в столбце user_score по-видимому есть строковые значения, посмотрим:\n",
    "data['user_score'].unique()"
   ]
  },
  {
   "cell_type": "markdown",
   "id": "5e4c24ea",
   "metadata": {},
   "source": [
    "В столбце user_score было обнаружено строковое значение 'tbd', мешающее обработке данных. Вероятно, tbd означает to be determined, то есть рейтинг не определен пользователем, пользователь еще не оставил оценку. В таком случае можно заменить пока что это значение на пропуск."
   ]
  },
  {
   "cell_type": "code",
   "execution_count": 8,
   "id": "1056d6cc",
   "metadata": {},
   "outputs": [],
   "source": [
    "#изменение строкового значения на пропуск\n",
    "for index in data.query('user_score == \"tbd\"').index:\n",
    "    data.loc[index, 'user_score'] = np.nan"
   ]
  },
  {
   "cell_type": "code",
   "execution_count": 9,
   "id": "5bea5574",
   "metadata": {},
   "outputs": [],
   "source": [
    "#изменение типа столбцов\n",
    "data = data.astype({'year_of_release':'int', 'user_score':'float'})"
   ]
  },
  {
   "cell_type": "code",
   "execution_count": 10,
   "id": "071ae342",
   "metadata": {},
   "outputs": [],
   "source": [
    "#изменение float64 на float32\n",
    "data_float64 = list(data.select_dtypes(include='float64'))\n",
    "data[data_float64] = data[data_float64].astype('float32')"
   ]
  },
  {
   "cell_type": "markdown",
   "id": "21d499b3",
   "metadata": {},
   "source": [
    "### Обработка пропусков"
   ]
  },
  {
   "cell_type": "code",
   "execution_count": 11,
   "id": "69cd0c92",
   "metadata": {},
   "outputs": [
    {
     "data": {
      "text/plain": [
       "name                  2\n",
       "platform              0\n",
       "year_of_release       0\n",
       "genre                 2\n",
       "na_sales              0\n",
       "eu_sales              0\n",
       "jp_sales              0\n",
       "other_sales           0\n",
       "critic_score       8578\n",
       "user_score         9125\n",
       "rating             6766\n",
       "dtype: int64"
      ]
     },
     "execution_count": 11,
     "metadata": {},
     "output_type": "execute_result"
    }
   ],
   "source": [
    "#оценка количества пропусков во всем датасете\n",
    "data.isna().sum()"
   ]
  },
  {
   "cell_type": "markdown",
   "id": "15ec11db",
   "metadata": {},
   "source": [
    "Пропуски в столбцах с названием игры и жанром представлены малым количеством строк, их можно спокойно удалить, это не повлияет на результат исследования.  \n",
    "Пропуски в столбцах с рейтингом пользователей и критиков составляют более 50%, их удаление невозможно. На основании рейтингов будут делаться определенные выводы, поэтому замена пропусков медианным, средним или любым примерным значением может исказить реальную картину. Предлагается оставить пропуски и работать с данными как есть."
   ]
  },
  {
   "cell_type": "markdown",
   "id": "06b0596d",
   "metadata": {},
   "source": [
    "Пропуски в столбце с рейтингом от ESRB предлагается заменить категориальным значением UN (Unknown). Это позволит определить пользовательский интерес к играм, не проверенным данной организацией."
   ]
  },
  {
   "cell_type": "markdown",
   "id": "1716b86b",
   "metadata": {},
   "source": [
    "Наличие пропусков в колонках с рейтингом - нормальное явление. Пользователи, критики или ESRB просто не оставляли еще оценку той или иной игре, поэтому возникли пропущенные значения."
   ]
  },
  {
   "cell_type": "code",
   "execution_count": 12,
   "id": "b8039770",
   "metadata": {},
   "outputs": [],
   "source": [
    "#удаление пропусков в столбцах name и genre\n",
    "data.dropna(subset=['name','genre'], inplace=True)"
   ]
  },
  {
   "cell_type": "markdown",
   "id": "910d50ca",
   "metadata": {},
   "source": [
    "Ранее в столбце year_of_release пропуски были заменены на 0.  \n",
    "Возможно, пропуски возникли вследствие технической ошибки при выгрузке.  \n",
    "Необходимо также обработать эти значения:"
   ]
  },
  {
   "cell_type": "code",
   "execution_count": 13,
   "id": "c1ad1b54",
   "metadata": {},
   "outputs": [
    {
     "data": {
      "text/html": [
       "<div>\n",
       "<style scoped>\n",
       "    .dataframe tbody tr th:only-of-type {\n",
       "        vertical-align: middle;\n",
       "    }\n",
       "\n",
       "    .dataframe tbody tr th {\n",
       "        vertical-align: top;\n",
       "    }\n",
       "\n",
       "    .dataframe thead th {\n",
       "        text-align: right;\n",
       "    }\n",
       "</style>\n",
       "<table border=\"1\" class=\"dataframe\">\n",
       "  <thead>\n",
       "    <tr style=\"text-align: right;\">\n",
       "      <th></th>\n",
       "      <th>name</th>\n",
       "      <th>platform</th>\n",
       "      <th>year_of_release</th>\n",
       "      <th>genre</th>\n",
       "      <th>na_sales</th>\n",
       "      <th>eu_sales</th>\n",
       "      <th>jp_sales</th>\n",
       "      <th>other_sales</th>\n",
       "      <th>critic_score</th>\n",
       "      <th>user_score</th>\n",
       "      <th>rating</th>\n",
       "    </tr>\n",
       "  </thead>\n",
       "  <tbody>\n",
       "    <tr>\n",
       "      <th>183</th>\n",
       "      <td>Madden NFL 2004</td>\n",
       "      <td>PS2</td>\n",
       "      <td>0</td>\n",
       "      <td>Sports</td>\n",
       "      <td>4.26</td>\n",
       "      <td>0.26</td>\n",
       "      <td>0.01</td>\n",
       "      <td>0.71</td>\n",
       "      <td>94.0</td>\n",
       "      <td>8.5</td>\n",
       "      <td>E</td>\n",
       "    </tr>\n",
       "    <tr>\n",
       "      <th>377</th>\n",
       "      <td>FIFA Soccer 2004</td>\n",
       "      <td>PS2</td>\n",
       "      <td>0</td>\n",
       "      <td>Sports</td>\n",
       "      <td>0.59</td>\n",
       "      <td>2.36</td>\n",
       "      <td>0.04</td>\n",
       "      <td>0.51</td>\n",
       "      <td>84.0</td>\n",
       "      <td>6.4</td>\n",
       "      <td>E</td>\n",
       "    </tr>\n",
       "    <tr>\n",
       "      <th>456</th>\n",
       "      <td>LEGO Batman: The Videogame</td>\n",
       "      <td>Wii</td>\n",
       "      <td>0</td>\n",
       "      <td>Action</td>\n",
       "      <td>1.80</td>\n",
       "      <td>0.97</td>\n",
       "      <td>0.00</td>\n",
       "      <td>0.29</td>\n",
       "      <td>74.0</td>\n",
       "      <td>7.9</td>\n",
       "      <td>E10+</td>\n",
       "    </tr>\n",
       "    <tr>\n",
       "      <th>475</th>\n",
       "      <td>wwe Smackdown vs. Raw 2006</td>\n",
       "      <td>PS2</td>\n",
       "      <td>0</td>\n",
       "      <td>Fighting</td>\n",
       "      <td>1.57</td>\n",
       "      <td>1.02</td>\n",
       "      <td>0.00</td>\n",
       "      <td>0.41</td>\n",
       "      <td>NaN</td>\n",
       "      <td>NaN</td>\n",
       "      <td>NaN</td>\n",
       "    </tr>\n",
       "    <tr>\n",
       "      <th>609</th>\n",
       "      <td>Space Invaders</td>\n",
       "      <td>2600</td>\n",
       "      <td>0</td>\n",
       "      <td>Shooter</td>\n",
       "      <td>2.36</td>\n",
       "      <td>0.14</td>\n",
       "      <td>0.00</td>\n",
       "      <td>0.03</td>\n",
       "      <td>NaN</td>\n",
       "      <td>NaN</td>\n",
       "      <td>NaN</td>\n",
       "    </tr>\n",
       "    <tr>\n",
       "      <th>...</th>\n",
       "      <td>...</td>\n",
       "      <td>...</td>\n",
       "      <td>...</td>\n",
       "      <td>...</td>\n",
       "      <td>...</td>\n",
       "      <td>...</td>\n",
       "      <td>...</td>\n",
       "      <td>...</td>\n",
       "      <td>...</td>\n",
       "      <td>...</td>\n",
       "      <td>...</td>\n",
       "    </tr>\n",
       "    <tr>\n",
       "      <th>16373</th>\n",
       "      <td>PDC World Championship Darts 2008</td>\n",
       "      <td>PSP</td>\n",
       "      <td>0</td>\n",
       "      <td>Sports</td>\n",
       "      <td>0.01</td>\n",
       "      <td>0.00</td>\n",
       "      <td>0.00</td>\n",
       "      <td>0.00</td>\n",
       "      <td>43.0</td>\n",
       "      <td>NaN</td>\n",
       "      <td>E10+</td>\n",
       "    </tr>\n",
       "    <tr>\n",
       "      <th>16405</th>\n",
       "      <td>Freaky Flyers</td>\n",
       "      <td>GC</td>\n",
       "      <td>0</td>\n",
       "      <td>Racing</td>\n",
       "      <td>0.01</td>\n",
       "      <td>0.00</td>\n",
       "      <td>0.00</td>\n",
       "      <td>0.00</td>\n",
       "      <td>69.0</td>\n",
       "      <td>6.5</td>\n",
       "      <td>T</td>\n",
       "    </tr>\n",
       "    <tr>\n",
       "      <th>16448</th>\n",
       "      <td>Inversion</td>\n",
       "      <td>PC</td>\n",
       "      <td>0</td>\n",
       "      <td>Shooter</td>\n",
       "      <td>0.01</td>\n",
       "      <td>0.00</td>\n",
       "      <td>0.00</td>\n",
       "      <td>0.00</td>\n",
       "      <td>59.0</td>\n",
       "      <td>6.7</td>\n",
       "      <td>M</td>\n",
       "    </tr>\n",
       "    <tr>\n",
       "      <th>16458</th>\n",
       "      <td>Hakuouki: Shinsengumi Kitan</td>\n",
       "      <td>PS3</td>\n",
       "      <td>0</td>\n",
       "      <td>Adventure</td>\n",
       "      <td>0.01</td>\n",
       "      <td>0.00</td>\n",
       "      <td>0.00</td>\n",
       "      <td>0.00</td>\n",
       "      <td>NaN</td>\n",
       "      <td>NaN</td>\n",
       "      <td>NaN</td>\n",
       "    </tr>\n",
       "    <tr>\n",
       "      <th>16522</th>\n",
       "      <td>Virtua Quest</td>\n",
       "      <td>GC</td>\n",
       "      <td>0</td>\n",
       "      <td>Role-Playing</td>\n",
       "      <td>0.01</td>\n",
       "      <td>0.00</td>\n",
       "      <td>0.00</td>\n",
       "      <td>0.00</td>\n",
       "      <td>55.0</td>\n",
       "      <td>5.5</td>\n",
       "      <td>T</td>\n",
       "    </tr>\n",
       "  </tbody>\n",
       "</table>\n",
       "<p>269 rows × 11 columns</p>\n",
       "</div>"
      ],
      "text/plain": [
       "                                    name platform  year_of_release  \\\n",
       "183                      Madden NFL 2004      PS2                0   \n",
       "377                     FIFA Soccer 2004      PS2                0   \n",
       "456           LEGO Batman: The Videogame      Wii                0   \n",
       "475           wwe Smackdown vs. Raw 2006      PS2                0   \n",
       "609                       Space Invaders     2600                0   \n",
       "...                                  ...      ...              ...   \n",
       "16373  PDC World Championship Darts 2008      PSP                0   \n",
       "16405                      Freaky Flyers       GC                0   \n",
       "16448                          Inversion       PC                0   \n",
       "16458        Hakuouki: Shinsengumi Kitan      PS3                0   \n",
       "16522                       Virtua Quest       GC                0   \n",
       "\n",
       "              genre  na_sales  eu_sales  jp_sales  other_sales  critic_score  \\\n",
       "183          Sports      4.26      0.26      0.01         0.71          94.0   \n",
       "377          Sports      0.59      2.36      0.04         0.51          84.0   \n",
       "456          Action      1.80      0.97      0.00         0.29          74.0   \n",
       "475        Fighting      1.57      1.02      0.00         0.41           NaN   \n",
       "609         Shooter      2.36      0.14      0.00         0.03           NaN   \n",
       "...             ...       ...       ...       ...          ...           ...   \n",
       "16373        Sports      0.01      0.00      0.00         0.00          43.0   \n",
       "16405        Racing      0.01      0.00      0.00         0.00          69.0   \n",
       "16448       Shooter      0.01      0.00      0.00         0.00          59.0   \n",
       "16458     Adventure      0.01      0.00      0.00         0.00           NaN   \n",
       "16522  Role-Playing      0.01      0.00      0.00         0.00          55.0   \n",
       "\n",
       "       user_score rating  \n",
       "183           8.5      E  \n",
       "377           6.4      E  \n",
       "456           7.9   E10+  \n",
       "475           NaN    NaN  \n",
       "609           NaN    NaN  \n",
       "...           ...    ...  \n",
       "16373         NaN   E10+  \n",
       "16405         6.5      T  \n",
       "16448         6.7      M  \n",
       "16458         NaN    NaN  \n",
       "16522         5.5      T  \n",
       "\n",
       "[269 rows x 11 columns]"
      ]
     },
     "execution_count": 13,
     "metadata": {},
     "output_type": "execute_result"
    }
   ],
   "source": [
    "data.query('year_of_release == 0')"
   ]
  },
  {
   "cell_type": "markdown",
   "id": "5f42f861",
   "metadata": {},
   "source": [
    "Имеется 269 значений. В работе необходимо будет исследовать данные по определенным временным промежуткам, поэтому такие значения не подойдут. Их количество мало, можно удалить. Однако заметно, что в названии некоторых игр есть год. Стоит попробовать сохранить строки с этими играми, и подставить в столбец year_of_release год ранее, чем из названия игры (это обусловлено тем, что официальный релиз всегда происходит ранее, чем игра поступает в продажу):"
   ]
  },
  {
   "cell_type": "code",
   "execution_count": 14,
   "id": "bccc7c94",
   "metadata": {},
   "outputs": [
    {
     "data": {
      "text/plain": [
       "array(['Madden NFL 2004', 'FIFA Soccer 2004',\n",
       "       'LEGO Batman: The Videogame', 'wwe Smackdown vs. Raw 2006',\n",
       "       'Space Invaders', 'Rock Band',\n",
       "       \"Frogger's Adventures: Temple of the Frog\",\n",
       "       'LEGO Indiana Jones: The Original Adventures', 'Call of Duty 3',\n",
       "       'Call of Duty: Black Ops', 'Triple Play 99', 'Adventure', 'Combat',\n",
       "       'LEGO Harry Potter: Years 5-7', 'NASCAR Thunder 2003',\n",
       "       'Hitman 2: Silent Assassin', 'Legacy of Kain: Soul Reaver',\n",
       "       'Donkey Kong Land III', 'Air-Sea Battle', 'Suikoden III',\n",
       "       'Wheel of Fortune', 'Yakuza 4', 'Namco Museum', 'Rhythm Heaven',\n",
       "       'The Lord of the Rings: War in the North', 'Madden NFL 07',\n",
       "       'MLB SlugFest 20-03', 'Shaun White Snowboarding',\n",
       "       'PES 2009: Pro Evolution Soccer', 'WarioWare: Twisted!',\n",
       "       'Madden NFL 11', 'Test Drive Unlimited 2',\n",
       "       'The Chronicles of Narnia: The Lion, The Witch and The Wardrobe',\n",
       "       'Monster Hunter 2', 'Metal Gear Solid 2: Substance',\n",
       "       'Advance Wars: Days of Ruin', 'The Golden Compass',\n",
       "       'Madden NFL 06', 'NASCAR: Dirt to Daytona', 'Madden NFL 2002',\n",
       "       'Def Jam: Fight for NY', 'NBA Street Vol. 2', 'Fishing Derby',\n",
       "       'Wet', 'Sonic the Hedgehog', 'Karate', 'Tiger Woods PGA Tour 07',\n",
       "       'Circus Atari',\n",
       "       'The Chronicles of Riddick: Escape from Butcher Bay',\n",
       "       \"Maze Craze: A Game of Cops 'n Robbers\", 'Silent Hill: Homecoming',\n",
       "       'Super Breakout', \"Robert Ludlum's The Bourne Conspiracy\",\n",
       "       'NHL Slapshot', 'TERA', 'NFL GameDay 2003',\n",
       "       'Harvest Moon: Save the Homeland', 'Hangman', 'NBA Live 2003',\n",
       "       \"Cubix Robots for Everyone: Clash 'n' Bash\",\n",
       "       'Dragon Ball Z: Budokai Tenkaichi 2 (JP sales)', 'Tropico 4',\n",
       "       'Tomb Raider (2013)', 'Bejeweled 3', 'Custom Robo',\n",
       "       'Final Fantasy XI', 'Singularity', 'Dragster',\n",
       "       'All-Star Baseball 2005', 'Star Wars Jedi Knight II: Jedi Outcast',\n",
       "       'Slot Machine', 'The Dukes of Hazzard II: Daisy Dukes It Out',\n",
       "       'Harvest Moon: The Tale of Two Towns', 'Shrek the Third',\n",
       "       'Nicktoons: Battle for Volcano Island', 'Haven: Call of the King',\n",
       "       'Unreal Championship 2: The Liandri Conflict', 'Pac-Man Fever',\n",
       "       'The Legend of Zelda: The Minish Cap(weekly JP sales)', 'Indy 500',\n",
       "       'Disgaea 3: Absence of Detention', 'Flag Capture', 'Gun',\n",
       "       'Rock Revolution', 'College Hoops 2K6',\n",
       "       'Jonah Lomu Rugby Challenge', 'Mega Man X Collection',\n",
       "       'BioShock 2', 'Danganronpa: Trigger Happy Havoc', 'Jet X20',\n",
       "       \"Tony Hawk's Downhill Jam\", 'Tribes: Aerial Assault',\n",
       "       'Big Beach Sports 2', 'Yu Yu Hakusho: Dark Tournament',\n",
       "       'Ghostbusters II', 'Breakaway IV', 'Robotech: Battlecry',\n",
       "       'Move Fitness', 'Valkyria Chronicles III: Unrecorded Chronicles',\n",
       "       'DanceDanceRevolution II', 'WRC: FIA World Rally Championship',\n",
       "       'Famista 64', 'Dead Space 3', 'Pet Zombies', 'Star Trek: Legacy',\n",
       "       'Backbreaker', 'Twisted Metal: Small Brawl', 'Otomedius Excellent',\n",
       "       'NBA Starting Five', 'Teen Titans', 'Trauma Team',\n",
       "       \"James Cameron's Dark Angel\", 'Sword of the Samurai',\n",
       "       'Splatterhouse', 'Alone in the Dark: The New Nightmare',\n",
       "       'Vegas Party', 'Jurassic Park: The Game', 'Home Run',\n",
       "       'eJay Clubworld', 'Our House Party!', 'WCW Backstage Assault',\n",
       "       \"Disney's Cinderella: Magical Dreams\", 'Transworld Surf',\n",
       "       'Street Fighter IV', 'Nintendo Puzzle Collection',\n",
       "       'Charm Girls Club: My Fashion Mall', 'Record of Agarest War Zero',\n",
       "       'Rocksmith',\n",
       "       'Super Robot Wars OG Saga: Masou Kishin II - Revelation of Evil God',\n",
       "       'Saru! Get You! Million Monkeys', 'Street Hoops',\n",
       "       'Godzilla: Destroy All Monsters Melee',\n",
       "       'The Daring Game for Girls', 'Major League Baseball 2K6',\n",
       "       'Star Trek: Conquest', 'GiFTPiA', 'Happy Feet Two',\n",
       "       \"Disney's Chicken Little: Ace In Action\",\n",
       "       'Atsumare! Power Pro Kun no DS Koushien',\n",
       "       'My Healthy Cooking Coach', 'Luminous Arc 2 (JP sales)',\n",
       "       'Egg Monster Hero', 'Demon Chaos', 'Samurai Shodown Anthology',\n",
       "       'Action Man-Operation Extreme', 'Super Puzzle Fighter II',\n",
       "       'Charm Girls Club: My Fashion Show', 'Face Racers: Photo Finish',\n",
       "       'Zero: Tsukihami no Kamen', 'The Hidden', 'Get Fit with Mel B',\n",
       "       'Mega Man Battle Network: Operation Shooting Star',\n",
       "       'Smashing Drive', 'Port Royale 3', 'Dream Trigger 3D',\n",
       "       'Dead Island: Riptide', 'Yoostar on MTV', 'Tornado',\n",
       "       \"McFarlane's Evil Prophecy\", 'Drake of the 99 Dragons',\n",
       "       'Build-A-Bear Workshop: Friendship Valley', 'Rayman Arena',\n",
       "       'National Geographic Challenge!', 'Alex Rider: Stormbreaker',\n",
       "       'Chou Soujuu Mecha MG',\n",
       "       'Prinny: Can I Really Be The Hero? (US sales)',\n",
       "       'Combat Elite: WWII Paratroopers', \"Flip's Twisted World\",\n",
       "       'Mobile Ops: The One Year War',\n",
       "       \"Tom Clancy's Rainbow Six: Critical Hour\",\n",
       "       'Jewel Link Chronicles: Mountains of Madness',\n",
       "       'Captain America: Super Soldier', 'Mountain Bike Adrenaline',\n",
       "       'Drill Dozer', 'GRID', 'Tour de France 2011',\n",
       "       'Reader Rabbit 2nd Grade', 'Monster Hunter Frontier Online',\n",
       "       'RollerCoaster Tycoon', 'Battle vs. Chess',\n",
       "       'The History Channel: Great Battles - Medieval',\n",
       "       'Clockwork Empires', 'B.L.U.E.: Legend of Water', 'NHL Hitz Pro',\n",
       "       \"Luxor: Pharaoh's Challenge\", 'Sega Rally 2006',\n",
       "       'Half-Minute Hero 2', 'Housekeeping', 'Major League Baseball 2K8',\n",
       "       'Sabre Wulf', 'Swords', 'Beyond the Labyrinth',\n",
       "       'Bikkuriman Daijiten', 'Majesty 2: The Fantasy Kingdom Sim',\n",
       "       'Fullmetal Alchemist: Brotherhood',\n",
       "       'Samurai Spirits: Tenkaichi Kenkakuden', 'World of Tanks',\n",
       "       'Tom and Jerry in War of the Whiskers', 'Super Duper Sumos',\n",
       "       'The King of Fighters: Maximum Impact - Maniax',\n",
       "       'Combat Wings: The Great Battles of WWII', 'Tube Slider',\n",
       "       'Umineko no Naku Koro ni San: Shinjitsu to Gensou no Yasoukyoku',\n",
       "       'Payout Poker & Casino', 'Wii de Asobu: Metroid Prime',\n",
       "       'Legacy of Ys: Books I & II', 'Saint', 'Steal Princess',\n",
       "       'Mario Tennis', 'Runaway: A Twist of Fate',\n",
       "       \"Yu-Gi-Oh! 5D's Wheelie Breakers (JP sales)\",\n",
       "       \"Cabela's Alaskan Adventure\",\n",
       "       'Writing and Speaking Beautiful Japanese DS', 'Virtua Quest',\n",
       "       \"Shonen Jump's Yu-Gi-Oh! GX Card Almanac\", 'Without Warning',\n",
       "       'PDC World Championship Darts 2008',\n",
       "       'Dinotopia: The Sunstone Odyssey', 'Jet Impulse', 'Dream Dancer',\n",
       "       \"Dance! It's Your Stage\", 'Football Manager 2007',\n",
       "       'Ferrari: The Race Experience', 'Aquaman: Battle for Atlantis',\n",
       "       'Homeworld Remastered Collection', 'Shorts',\n",
       "       'AKB1/48: Idol to Guam de Koishitara...',\n",
       "       'Brothers in Arms: Furious 4', 'Agarest Senki: Re-appearance',\n",
       "       'Freaky Flyers', 'Inversion', 'Hakuouki: Shinsengumi Kitan'],\n",
       "      dtype=object)"
      ]
     },
     "execution_count": 14,
     "metadata": {},
     "output_type": "execute_result"
    }
   ],
   "source": [
    "#проверка названий игр с пропусками в годе выпуска\n",
    "data.query('year_of_release == 0')['name'].unique()"
   ]
  },
  {
   "cell_type": "code",
   "execution_count": 15,
   "id": "54e2cdf9",
   "metadata": {},
   "outputs": [
    {
     "name": "stdout",
     "output_type": "stream",
     "text": [
      "['2006', '1985', '2008', '2009', '1996', '1989', '1984', '2005', '1999', '2007', '2010', '2013', '2004', '1990', '1988', '2002', '2001', '2011', '1998', '2015', '2012', '2014', '1992', '1997', '1993', '1994', '1982', '2016', '2003', '1986', '2000', '1995', '1991', '1981', '1987', '1980', '1983']\n"
     ]
    }
   ],
   "source": [
    "#создаем список с годами и переводим в строковый формат для поиска в названиях\n",
    "years = data['year_of_release'].unique().astype('str').tolist()\n",
    "years.remove('0')\n",
    "print(years)"
   ]
  },
  {
   "cell_type": "code",
   "execution_count": 16,
   "id": "449acc9a",
   "metadata": {},
   "outputs": [],
   "source": [
    "#цикл по замене значений:\n",
    "for year in years: #цикл перебирает значение из списка с годами\n",
    "    for index in data.query('year_of_release == 0').index: #цикл перебирает индексы из отфильтрованной части датафрейма\n",
    "        if year in data.loc[index, 'name']:                #условие нахождения значения из списка с годами в названии игры\n",
    "            data.loc[index, 'year_of_release'] = (int(year) - 1) #присваивание значения из списка с годами"
   ]
  },
  {
   "cell_type": "code",
   "execution_count": 17,
   "id": "b574d454",
   "metadata": {},
   "outputs": [
    {
     "data": {
      "text/html": [
       "<div>\n",
       "<style scoped>\n",
       "    .dataframe tbody tr th:only-of-type {\n",
       "        vertical-align: middle;\n",
       "    }\n",
       "\n",
       "    .dataframe tbody tr th {\n",
       "        vertical-align: top;\n",
       "    }\n",
       "\n",
       "    .dataframe thead th {\n",
       "        text-align: right;\n",
       "    }\n",
       "</style>\n",
       "<table border=\"1\" class=\"dataframe\">\n",
       "  <thead>\n",
       "    <tr style=\"text-align: right;\">\n",
       "      <th></th>\n",
       "      <th>name</th>\n",
       "      <th>platform</th>\n",
       "      <th>year_of_release</th>\n",
       "      <th>genre</th>\n",
       "      <th>na_sales</th>\n",
       "      <th>eu_sales</th>\n",
       "      <th>jp_sales</th>\n",
       "      <th>other_sales</th>\n",
       "      <th>critic_score</th>\n",
       "      <th>user_score</th>\n",
       "      <th>rating</th>\n",
       "    </tr>\n",
       "  </thead>\n",
       "  <tbody>\n",
       "    <tr>\n",
       "      <th>456</th>\n",
       "      <td>LEGO Batman: The Videogame</td>\n",
       "      <td>Wii</td>\n",
       "      <td>0</td>\n",
       "      <td>Action</td>\n",
       "      <td>1.80</td>\n",
       "      <td>0.97</td>\n",
       "      <td>0.00</td>\n",
       "      <td>0.29</td>\n",
       "      <td>74.0</td>\n",
       "      <td>7.9</td>\n",
       "      <td>E10+</td>\n",
       "    </tr>\n",
       "    <tr>\n",
       "      <th>609</th>\n",
       "      <td>Space Invaders</td>\n",
       "      <td>2600</td>\n",
       "      <td>0</td>\n",
       "      <td>Shooter</td>\n",
       "      <td>2.36</td>\n",
       "      <td>0.14</td>\n",
       "      <td>0.00</td>\n",
       "      <td>0.03</td>\n",
       "      <td>NaN</td>\n",
       "      <td>NaN</td>\n",
       "      <td>NaN</td>\n",
       "    </tr>\n",
       "    <tr>\n",
       "      <th>627</th>\n",
       "      <td>Rock Band</td>\n",
       "      <td>X360</td>\n",
       "      <td>0</td>\n",
       "      <td>Misc</td>\n",
       "      <td>1.93</td>\n",
       "      <td>0.33</td>\n",
       "      <td>0.00</td>\n",
       "      <td>0.21</td>\n",
       "      <td>92.0</td>\n",
       "      <td>8.2</td>\n",
       "      <td>T</td>\n",
       "    </tr>\n",
       "    <tr>\n",
       "      <th>657</th>\n",
       "      <td>Frogger's Adventures: Temple of the Frog</td>\n",
       "      <td>GBA</td>\n",
       "      <td>0</td>\n",
       "      <td>Adventure</td>\n",
       "      <td>2.15</td>\n",
       "      <td>0.18</td>\n",
       "      <td>0.00</td>\n",
       "      <td>0.07</td>\n",
       "      <td>73.0</td>\n",
       "      <td>NaN</td>\n",
       "      <td>E</td>\n",
       "    </tr>\n",
       "    <tr>\n",
       "      <th>678</th>\n",
       "      <td>LEGO Indiana Jones: The Original Adventures</td>\n",
       "      <td>Wii</td>\n",
       "      <td>0</td>\n",
       "      <td>Action</td>\n",
       "      <td>1.51</td>\n",
       "      <td>0.61</td>\n",
       "      <td>0.00</td>\n",
       "      <td>0.21</td>\n",
       "      <td>78.0</td>\n",
       "      <td>6.6</td>\n",
       "      <td>E10+</td>\n",
       "    </tr>\n",
       "    <tr>\n",
       "      <th>...</th>\n",
       "      <td>...</td>\n",
       "      <td>...</td>\n",
       "      <td>...</td>\n",
       "      <td>...</td>\n",
       "      <td>...</td>\n",
       "      <td>...</td>\n",
       "      <td>...</td>\n",
       "      <td>...</td>\n",
       "      <td>...</td>\n",
       "      <td>...</td>\n",
       "      <td>...</td>\n",
       "    </tr>\n",
       "    <tr>\n",
       "      <th>16348</th>\n",
       "      <td>Agarest Senki: Re-appearance</td>\n",
       "      <td>PS3</td>\n",
       "      <td>0</td>\n",
       "      <td>Role-Playing</td>\n",
       "      <td>0.00</td>\n",
       "      <td>0.00</td>\n",
       "      <td>0.01</td>\n",
       "      <td>0.00</td>\n",
       "      <td>NaN</td>\n",
       "      <td>NaN</td>\n",
       "      <td>NaN</td>\n",
       "    </tr>\n",
       "    <tr>\n",
       "      <th>16405</th>\n",
       "      <td>Freaky Flyers</td>\n",
       "      <td>GC</td>\n",
       "      <td>0</td>\n",
       "      <td>Racing</td>\n",
       "      <td>0.01</td>\n",
       "      <td>0.00</td>\n",
       "      <td>0.00</td>\n",
       "      <td>0.00</td>\n",
       "      <td>69.0</td>\n",
       "      <td>6.5</td>\n",
       "      <td>T</td>\n",
       "    </tr>\n",
       "    <tr>\n",
       "      <th>16448</th>\n",
       "      <td>Inversion</td>\n",
       "      <td>PC</td>\n",
       "      <td>0</td>\n",
       "      <td>Shooter</td>\n",
       "      <td>0.01</td>\n",
       "      <td>0.00</td>\n",
       "      <td>0.00</td>\n",
       "      <td>0.00</td>\n",
       "      <td>59.0</td>\n",
       "      <td>6.7</td>\n",
       "      <td>M</td>\n",
       "    </tr>\n",
       "    <tr>\n",
       "      <th>16458</th>\n",
       "      <td>Hakuouki: Shinsengumi Kitan</td>\n",
       "      <td>PS3</td>\n",
       "      <td>0</td>\n",
       "      <td>Adventure</td>\n",
       "      <td>0.01</td>\n",
       "      <td>0.00</td>\n",
       "      <td>0.00</td>\n",
       "      <td>0.00</td>\n",
       "      <td>NaN</td>\n",
       "      <td>NaN</td>\n",
       "      <td>NaN</td>\n",
       "    </tr>\n",
       "    <tr>\n",
       "      <th>16522</th>\n",
       "      <td>Virtua Quest</td>\n",
       "      <td>GC</td>\n",
       "      <td>0</td>\n",
       "      <td>Role-Playing</td>\n",
       "      <td>0.01</td>\n",
       "      <td>0.00</td>\n",
       "      <td>0.00</td>\n",
       "      <td>0.00</td>\n",
       "      <td>55.0</td>\n",
       "      <td>5.5</td>\n",
       "      <td>T</td>\n",
       "    </tr>\n",
       "  </tbody>\n",
       "</table>\n",
       "<p>252 rows × 11 columns</p>\n",
       "</div>"
      ],
      "text/plain": [
       "                                              name platform  year_of_release  \\\n",
       "456                     LEGO Batman: The Videogame      Wii                0   \n",
       "609                                 Space Invaders     2600                0   \n",
       "627                                      Rock Band     X360                0   \n",
       "657       Frogger's Adventures: Temple of the Frog      GBA                0   \n",
       "678    LEGO Indiana Jones: The Original Adventures      Wii                0   \n",
       "...                                            ...      ...              ...   \n",
       "16348                 Agarest Senki: Re-appearance      PS3                0   \n",
       "16405                                Freaky Flyers       GC                0   \n",
       "16448                                    Inversion       PC                0   \n",
       "16458                  Hakuouki: Shinsengumi Kitan      PS3                0   \n",
       "16522                                 Virtua Quest       GC                0   \n",
       "\n",
       "              genre  na_sales  eu_sales  jp_sales  other_sales  critic_score  \\\n",
       "456          Action      1.80      0.97      0.00         0.29          74.0   \n",
       "609         Shooter      2.36      0.14      0.00         0.03           NaN   \n",
       "627            Misc      1.93      0.33      0.00         0.21          92.0   \n",
       "657       Adventure      2.15      0.18      0.00         0.07          73.0   \n",
       "678          Action      1.51      0.61      0.00         0.21          78.0   \n",
       "...             ...       ...       ...       ...          ...           ...   \n",
       "16348  Role-Playing      0.00      0.00      0.01         0.00           NaN   \n",
       "16405        Racing      0.01      0.00      0.00         0.00          69.0   \n",
       "16448       Shooter      0.01      0.00      0.00         0.00          59.0   \n",
       "16458     Adventure      0.01      0.00      0.00         0.00           NaN   \n",
       "16522  Role-Playing      0.01      0.00      0.00         0.00          55.0   \n",
       "\n",
       "       user_score rating  \n",
       "456           7.9   E10+  \n",
       "609           NaN    NaN  \n",
       "627           8.2      T  \n",
       "657           NaN      E  \n",
       "678           6.6   E10+  \n",
       "...           ...    ...  \n",
       "16348         NaN    NaN  \n",
       "16405         6.5      T  \n",
       "16448         6.7      M  \n",
       "16458         NaN    NaN  \n",
       "16522         5.5      T  \n",
       "\n",
       "[252 rows x 11 columns]"
      ]
     },
     "execution_count": 17,
     "metadata": {},
     "output_type": "execute_result"
    }
   ],
   "source": [
    "#проверка результата\n",
    "data.query('year_of_release == 0')"
   ]
  },
  {
   "cell_type": "markdown",
   "id": "80c324dd",
   "metadata": {},
   "source": [
    "Получилось заменить небольшое количество значений. Оставшиеся строки можно просто удалить."
   ]
  },
  {
   "cell_type": "code",
   "execution_count": 18,
   "id": "f7ce1306",
   "metadata": {},
   "outputs": [],
   "source": [
    "#удаление пропусков в столбце с годом выпуска\n",
    "data.drop(labels = (data.query('year_of_release == 0').index), axis = 0, inplace = True)"
   ]
  },
  {
   "cell_type": "code",
   "execution_count": 19,
   "id": "4928de26",
   "metadata": {},
   "outputs": [],
   "source": [
    "#замена пропусков в столбце rating\n",
    "data['rating'].fillna(value = 'UN', inplace=True)"
   ]
  },
  {
   "cell_type": "markdown",
   "id": "796b4992",
   "metadata": {},
   "source": [
    "### Проверка неявных дубликатов"
   ]
  },
  {
   "cell_type": "markdown",
   "id": "0b3f33db",
   "metadata": {},
   "source": [
    "Есть столбцы со строковыми значениями, такие как genre и rating, где небольшое количество значений и могут присуствовать неявные дубликаты (опечатки и тд). Стоит их проверить."
   ]
  },
  {
   "cell_type": "code",
   "execution_count": 20,
   "id": "0107c968",
   "metadata": {},
   "outputs": [
    {
     "data": {
      "text/plain": [
       "array(['Sports', 'Platform', 'Racing', 'Role-Playing', 'Puzzle', 'Misc',\n",
       "       'Shooter', 'Simulation', 'Action', 'Fighting', 'Adventure',\n",
       "       'Strategy'], dtype=object)"
      ]
     },
     "execution_count": 20,
     "metadata": {},
     "output_type": "execute_result"
    }
   ],
   "source": [
    "data['genre'].unique()"
   ]
  },
  {
   "cell_type": "code",
   "execution_count": 21,
   "id": "9f41a190",
   "metadata": {},
   "outputs": [
    {
     "data": {
      "text/plain": [
       "array(['E', 'UN', 'M', 'T', 'E10+', 'K-A', 'AO', 'EC', 'RP'], dtype=object)"
      ]
     },
     "execution_count": 21,
     "metadata": {},
     "output_type": "execute_result"
    }
   ],
   "source": [
    "#проверка столбца rating на уникальные значения\n",
    "data['rating'].unique()"
   ]
  },
  {
   "cell_type": "markdown",
   "id": "db72ac04",
   "metadata": {},
   "source": [
    "Рейтинги E и K-A - одно и то же, до 1998 года игры получали рейтинг K-A (kids to adults), а после 1998 его переименовали в E (everyone). Для точности, необходимо заменить все устаревшие рейтинги K-A на обновленный E:"
   ]
  },
  {
   "cell_type": "code",
   "execution_count": 22,
   "id": "e6dcf164",
   "metadata": {},
   "outputs": [],
   "source": [
    "#находим значение К-А и меняем его на Е\n",
    "data.loc[data['rating'] == 'K-A', 'rating'] = 'E'"
   ]
  },
  {
   "cell_type": "code",
   "execution_count": 23,
   "id": "b8f2f669",
   "metadata": {},
   "outputs": [
    {
     "data": {
      "text/plain": [
       "array(['E', 'UN', 'M', 'T', 'E10+', 'AO', 'EC', 'RP'], dtype=object)"
      ]
     },
     "execution_count": 23,
     "metadata": {},
     "output_type": "execute_result"
    }
   ],
   "source": [
    "#проверка результата\n",
    "data['rating'].unique()"
   ]
  },
  {
   "cell_type": "code",
   "execution_count": 24,
   "id": "ba280be9",
   "metadata": {},
   "outputs": [
    {
     "data": {
      "text/plain": [
       "array(['Sports', 'Platform', 'Racing', 'Role-Playing', 'Puzzle', 'Misc',\n",
       "       'Shooter', 'Simulation', 'Action', 'Fighting', 'Adventure',\n",
       "       'Strategy'], dtype=object)"
      ]
     },
     "execution_count": 24,
     "metadata": {},
     "output_type": "execute_result"
    }
   ],
   "source": [
    "#проверка столбца genre на уникальные значения\n",
    "data['genre'].unique()"
   ]
  },
  {
   "cell_type": "markdown",
   "id": "c880efd6",
   "metadata": {},
   "source": [
    "В столбце с жанрами дубликатов нет."
   ]
  },
  {
   "cell_type": "markdown",
   "id": "7151933d",
   "metadata": {},
   "source": [
    "### Добавление данных"
   ]
  },
  {
   "cell_type": "markdown",
   "id": "128483a7",
   "metadata": {},
   "source": [
    "Для удобства анализа стоит добавить суммарные продажи по всем регионам:"
   ]
  },
  {
   "cell_type": "code",
   "execution_count": 25,
   "id": "f6797f35",
   "metadata": {},
   "outputs": [],
   "source": [
    "#добавление столбца с суммой продаж по всем регионам.\n",
    "data.insert(8, 'sum_sales', (data[['na_sales','eu_sales','jp_sales', 'other_sales']].sum(axis = 1)), True)"
   ]
  },
  {
   "cell_type": "markdown",
   "id": "ba8d9254",
   "metadata": {},
   "source": [
    "## Исследовательский анализ данных"
   ]
  },
  {
   "cell_type": "markdown",
   "id": "3ff676e2",
   "metadata": {},
   "source": [
    "### Проверка количества игр в разные годы выпуска:"
   ]
  },
  {
   "cell_type": "markdown",
   "id": "b17b2f4b",
   "metadata": {},
   "source": [
    "Необходимо определить период, на основании которого будет проводиться аналитика и строиться прогноз по продажам на 2017 год. Для это в первую очередь стоит оценить количество выпущенных игр в разные годы, и первоначально сократить масштаб временного промежутка."
   ]
  },
  {
   "cell_type": "code",
   "execution_count": 26,
   "id": "c02eba5e",
   "metadata": {},
   "outputs": [
    {
     "data": {
      "image/png": "[encoded data removed]",
      "text/plain": [
       "<Figure size 1000x500 with 1 Axes>"
      ]
     },
     "metadata": {},
     "output_type": "display_data"
    }
   ],
   "source": [
    "data.pivot_table(index='year_of_release', values='name', aggfunc='count') \\\n",
    "    .plot(kind='bar', color='purple', grid=True, figsize=(10,5));\n",
    "plt.title('Количество выпущенных игр в разные годы');\n",
    "plt.legend(['games_count'], loc=9);"
   ]
  },
  {
   "cell_type": "markdown",
   "id": "6736614b",
   "metadata": {},
   "source": [
    "На графике наглядно виден активный рост количества выпускаемых игр с 2001 года. Первоначально можно сузить рассматриваемый диапазон с 2001 по 2016, но позднее скорректировать исходя из данных по разным платформам."
   ]
  },
  {
   "cell_type": "markdown",
   "id": "647c488e",
   "metadata": {},
   "source": [
    "### Проверка количества продаж по разным платформам и среднего срока жизни платформы:"
   ]
  },
  {
   "cell_type": "markdown",
   "id": "48abbfb3",
   "metadata": {},
   "source": [
    "Для прогноза продаж также необходимо понимать, на каких платформах заострять внимание, а какие уже устарели и неактуальны. Для этого потребуется оценка количества выпущенных игр по каждой платформе, срок жизни каждой платформы на текущий момент (сколько лет выходили релизы для каждой из платформ), распределение суммы продаж по годам."
   ]
  },
  {
   "cell_type": "code",
   "execution_count": 27,
   "id": "6dd29710",
   "metadata": {},
   "outputs": [
    {
     "data": {
      "image/png": "[encoded data removed]",
      "text/plain": [
       "<Figure size 1000x500 with 1 Axes>"
      ]
     },
     "metadata": {},
     "output_type": "display_data"
    }
   ],
   "source": [
    "data.groupby('platform')['sum_sales'].agg(sum).sort_values() \\\n",
    "    .plot(kind='bar', color='mediumpurple', figsize=(10,5), grid=True);\n",
    "plt.title('Сумма продаж для разных платформ за все время');\n",
    "plt.legend(['total_sales'], loc=9);\n",
    "plt.ylabel('Млн проданных копий');"
   ]
  },
  {
   "cell_type": "markdown",
   "id": "58f8a4ee",
   "metadata": {},
   "source": [
    "Видны 6 платформ с ярко-максимальным количеством выпущенных игр. Сокращать выборку до 6 платформ некорректно, особенно с учетом того, что пик количества выпускаемых игр пришелся не на текущий год (2016), а на 2008-2009, и среди платформ-лидеров могуть быть устаревшие, которые уже становятся неактуальны. А среди платформ с минимальным количеством продаж могут быть \"перспективные новички\". Поэтому для рассмотрения дальше можно взять топ-25 платформ, понять, какие из них уже практически устарели, а какие набирают обороты в два последних года."
   ]
  },
  {
   "cell_type": "code",
   "execution_count": 28,
   "id": "7973eb28",
   "metadata": {},
   "outputs": [
    {
     "data": {
      "image/png": "[encoded data removed]",
      "text/plain": [
       "<Figure size 800x400 with 1 Axes>"
      ]
     },
     "metadata": {},
     "output_type": "display_data"
    }
   ],
   "source": [
    "data.query('year_of_release >= 2014').groupby('platform')['sum_sales'].agg('sum').sort_values() \\\n",
    "    .plot(kind='bar', grid=True, figsize=(8,4), color='darkmagenta');\n",
    "plt.title('Сумма продаж для разных платформ с 2014 по 2016');\n",
    "plt.legend(['total_sales'], loc=9);\n",
    "plt.ylabel('Млн проданных копий');"
   ]
  },
  {
   "cell_type": "markdown",
   "id": "8b378477",
   "metadata": {},
   "source": [
    "По детализированному графику продаж за последние 2 года видно, что платформы PlayStation 4 и XBox One являются лидерами, хотя на общем распределении их значения продаж были весьма средние. Это означает, что нельзя просто \"отрезать\" топ-10/15/20 от общего числа продаж, и обязательно в выборке должны быть платформы, аткуальные на текущий момент. Оставим в рассмотрении 9 платформ из 10, актуальных за последние 2 года (PlayStation Portable исключается из-за предельно-малого количества продаж и появления более современной платформы PlayStation Vita)"
   ]
  },
  {
   "cell_type": "code",
   "execution_count": 29,
   "id": "9306a2eb",
   "metadata": {},
   "outputs": [],
   "source": [
    "#сформируем список с названиями топ-9 актуальных платформ\n",
    "best_platforms_names = data.query('year_of_release >= 2014').groupby('platform')['sum_sales'].agg(sum).sort_values().tail(9).index.tolist()"
   ]
  },
  {
   "cell_type": "code",
   "execution_count": 30,
   "id": "dfbb3926",
   "metadata": {},
   "outputs": [],
   "source": [
    "#сформируем отдельный датафрейм с отфильтрованными платформами в отфильтрованный период.\n",
    "best_platforms = data.query('platform in @best_platforms_names and year_of_release >= 2001')"
   ]
  },
  {
   "cell_type": "markdown",
   "id": "4c2c0bdf",
   "metadata": {},
   "source": [
    "Параллельно стоит оценить срок жизни выбранных платформ. Для этого необходимо построить график с количеством лет, когда выпускались игры для каждой платформы, найти среднее предельное значение для платформы и оценить срок жизни актуальных платформ."
   ]
  },
  {
   "cell_type": "code",
   "execution_count": 31,
   "id": "6d5c259a",
   "metadata": {},
   "outputs": [
    {
     "data": {
      "image/png": "[encoded data removed]",
      "text/plain": [
       "<Figure size 1000x500 with 1 Axes>"
      ]
     },
     "metadata": {},
     "output_type": "display_data"
    }
   ],
   "source": [
    "#строим график по сгруппированным данным по платформам с подсчетом количества уникальных значений лет релиза игр,...\n",
    "#...таким образом получаем, сколько лет выпускались игры для платформы\n",
    "data.groupby('platform').year_of_release.nunique().sort_values().plot(kind='bar', color='purple', grid=True, figsize=(10,5));\n",
    "plt.legend(['years_count'], loc=9);\n",
    "plt.title('Количество лет, когда выпускались игры, для разных платформ');"
   ]
  },
  {
   "cell_type": "markdown",
   "id": "f53530ff",
   "metadata": {},
   "source": [
    "Видно, что средний срок жизни платформы - 10-12 лет. При этом есть пиковое значение для персональных компьютеров, но это обусловлено постоянным обновлением технологической и программной начинки.  \n",
    "  \n",
    "Сузим график до актуальных платформ:"
   ]
  },
  {
   "cell_type": "code",
   "execution_count": 32,
   "id": "e1c52925",
   "metadata": {},
   "outputs": [
    {
     "data": {
      "image/png": "[encoded data removed]",
      "text/plain": [
       "<Figure size 800x400 with 1 Axes>"
      ]
     },
     "metadata": {},
     "output_type": "display_data"
    }
   ],
   "source": [
    "#строим график продолжительности жизни платформы по топ-9 платформ\n",
    "best_platforms.groupby('platform').year_of_release.nunique().sort_values() \\\n",
    "    .plot(kind='bar', color='mediumpurple', grid=True, figsize=(8,4));\n",
    "plt.legend(['years_count'], loc=9);\n",
    "plt.title('Количество лет, когда выпускались игры, для актуальных платформ');"
   ]
  },
  {
   "cell_type": "markdown",
   "id": "c0c03d63",
   "metadata": {},
   "source": [
    "Заметно, что из актуальных платформ три уже подошли к предельному \"возрасту\" - это PlayStation3, XBox360 и Nintendo Wii. Пик у персонального компьютера опять же обусловлен постоянной модернизацией платформы.  \n",
    "эти данные можно еще нагляднее увидеть на графике продаж по годам для каждой платформы:"
   ]
  },
  {
   "cell_type": "code",
   "execution_count": 33,
   "id": "a385cda7",
   "metadata": {},
   "outputs": [
    {
     "name": "stderr",
     "output_type": "stream",
     "text": [
      "/var/folders/6v/0vwd9g450k31l1j3q7c7b1b40000gn/T/ipykernel_53558/3877005612.py:7: MatplotlibDeprecationWarning: Auto-removal of overlapping axes is deprecated since 3.6 and will be removed two minor releases later; explicitly call ax.remove() as needed.\n",
      "  ax1 = plt.subplot(2, 2, 1)\n"
     ]
    },
    {
     "data": {
      "image/png": "[encoded data removed]",
      "text/plain": [
       "<Figure size 1500x1000 with 3 Axes>"
      ]
     },
     "metadata": {},
     "output_type": "display_data"
    }
   ],
   "source": [
    "#строим график количества продаж по всем регионам в каждый год по топ-9 платформам\n",
    "plt.subplots(figsize = (15, 10))\n",
    "plt.suptitle('Сумма продаж по различным платформам',\n",
    "             y = 1,\n",
    "             fontsize = 15)\n",
    "    # первый график\n",
    "ax1 = plt.subplot(2, 2, 1)\n",
    "best_platforms.pivot_table(index='year_of_release', columns='platform', values='sum_sales', aggfunc='count') \\\n",
    "    .plot(kind='bar', grid=True, ax = ax1, legend=False, width=0.7);\n",
    "plt.xlim(-0.5,5.5);\n",
    "plt.ylim(0,100);\n",
    "    # второй график\n",
    "ax2 = plt.subplot(2, 2, 2)\n",
    "best_platforms.pivot_table(index='year_of_release', columns='platform', values='sum_sales', aggfunc='count') \\\n",
    "    .plot(kind='bar', grid=True, ax = ax2, legend=False, width=0.7);\n",
    "plt.xlim(5.5,10.5);\n",
    "plt.ylim(0,350);\n",
    "    # третий график\n",
    "ax2 = plt.subplot(2, 2, 3)\n",
    "best_platforms.pivot_table(index='year_of_release', columns='platform', values='sum_sales', aggfunc='count') \\\n",
    "    .plot(kind='bar', grid=True, ax = ax2, width=0.7);\n",
    "plt.xlim(10.5,15.5);\n",
    "plt.ylim(0,170);\n",
    "plt.legend(bbox_to_anchor=(1,1), loc='upper left');"
   ]
  },
  {
   "cell_type": "markdown",
   "id": "aced67ea",
   "metadata": {},
   "source": [
    "**Представленная визуализация позволила сделать следующие выводы:**  \n",
    "* за последние годы продажи для платформы PC были стабильны, без тенденции к снижению;  \n",
    "* платформа PS4 сейчас наиболее популярна, является лидером продаж последние 2 года, к тому же она наряду с XOne является наиболее новой; \n",
    "* у портативных платформ PSV, 3DS и WiiU срок жизни отличается от стационарных игровых консолей - видны тенденции снижения продаж уже к пятому году после выпуска; \n",
    "* платформы, на замену которым пришли обновленные версии, еще два года сохраняют хороший уровень продаж (на примере PS3 и X360)."
   ]
  },
  {
   "cell_type": "markdown",
   "id": "d8e987ff",
   "metadata": {},
   "source": [
    "### Определение актуального временного периода и наиболее перспекивных платформ:"
   ]
  },
  {
   "cell_type": "markdown",
   "id": "6e8cdf2f",
   "metadata": {},
   "source": [
    "Учитывая изложенные выше доводы, определенные актуальные платформы, предлагается сузить временной отрезок рассмотрения до диапазона 2014-2016 год. В этот период представлены данные о продажах по всем интересующим платформам, новые и наиболее популярные на 2016 год консоли уже имеют стабильный показатель продаж в каждый из годов, а \"покидающие\" рынок платформы имеют низкий показатель продаж. Таким образом можно будтет получить максимально верную оценку без \"перекосов\"."
   ]
  },
  {
   "cell_type": "code",
   "execution_count": 34,
   "id": "736895a4",
   "metadata": {},
   "outputs": [],
   "source": [
    "#формируем датасет по ВСЕМ платформам только с 2014 по 2016 год\n",
    "best_platforms_actually_years = best_platforms.query('year_of_release >= 2014')"
   ]
  },
  {
   "cell_type": "markdown",
   "id": "f0affcf1",
   "metadata": {},
   "source": [
    "Посмотрев на уровень продаж за последние годы, и учитывая тот факт, что необходимо происзвести анализ продаж для 2017 года, стоит оставить в рассмотрении наиболее активные платформы:  \n",
    "1. PlayStation 4\n",
    "2. XBox One\n",
    "3. PC\n",
    "4. PSV как единственная портативная консоль из представленных."
   ]
  },
  {
   "cell_type": "markdown",
   "id": "9d187d4e",
   "metadata": {},
   "source": [
    "### Построение диаграммы размаха для выбранных платформ с данными о глобальных продажах игр:"
   ]
  },
  {
   "cell_type": "markdown",
   "id": "b3408ab0",
   "metadata": {},
   "source": [
    "Для выбранных к детальному исследованию платформ стоит оценить средний уровень продаж, стандартное отклоение, чтобы в дальнейшем понять ожидаемые продажи по ним в 2017 году. Можно визуализировать данные через диаграмму размаха, предварительно выведя на экран данные, по которым она построена:"
   ]
  },
  {
   "cell_type": "code",
   "execution_count": 35,
   "id": "63e3c861",
   "metadata": {},
   "outputs": [
    {
     "data": {
      "text/html": [
       "<div>\n",
       "<style scoped>\n",
       "    .dataframe tbody tr th:only-of-type {\n",
       "        vertical-align: middle;\n",
       "    }\n",
       "\n",
       "    .dataframe tbody tr th {\n",
       "        vertical-align: top;\n",
       "    }\n",
       "\n",
       "    .dataframe thead th {\n",
       "        text-align: right;\n",
       "    }\n",
       "</style>\n",
       "<table border=\"1\" class=\"dataframe\">\n",
       "  <thead>\n",
       "    <tr style=\"text-align: right;\">\n",
       "      <th></th>\n",
       "      <th>count</th>\n",
       "      <th>mean</th>\n",
       "      <th>std</th>\n",
       "      <th>min</th>\n",
       "      <th>25%</th>\n",
       "      <th>50%</th>\n",
       "      <th>75%</th>\n",
       "      <th>max</th>\n",
       "    </tr>\n",
       "    <tr>\n",
       "      <th>platform</th>\n",
       "      <th></th>\n",
       "      <th></th>\n",
       "      <th></th>\n",
       "      <th></th>\n",
       "      <th></th>\n",
       "      <th></th>\n",
       "      <th></th>\n",
       "      <th></th>\n",
       "    </tr>\n",
       "  </thead>\n",
       "  <tbody>\n",
       "    <tr>\n",
       "      <th>PC</th>\n",
       "      <td>151.0</td>\n",
       "      <td>0.179139</td>\n",
       "      <td>0.329359</td>\n",
       "      <td>0.01</td>\n",
       "      <td>0.0200</td>\n",
       "      <td>0.060</td>\n",
       "      <td>0.2000</td>\n",
       "      <td>3.05</td>\n",
       "    </tr>\n",
       "    <tr>\n",
       "      <th>PS4</th>\n",
       "      <td>376.0</td>\n",
       "      <td>0.766356</td>\n",
       "      <td>1.614970</td>\n",
       "      <td>0.01</td>\n",
       "      <td>0.0575</td>\n",
       "      <td>0.185</td>\n",
       "      <td>0.6900</td>\n",
       "      <td>14.63</td>\n",
       "    </tr>\n",
       "    <tr>\n",
       "      <th>PSV</th>\n",
       "      <td>295.0</td>\n",
       "      <td>0.075932</td>\n",
       "      <td>0.141591</td>\n",
       "      <td>0.01</td>\n",
       "      <td>0.0200</td>\n",
       "      <td>0.040</td>\n",
       "      <td>0.0900</td>\n",
       "      <td>1.96</td>\n",
       "    </tr>\n",
       "    <tr>\n",
       "      <th>XOne</th>\n",
       "      <td>228.0</td>\n",
       "      <td>0.615614</td>\n",
       "      <td>1.046512</td>\n",
       "      <td>0.01</td>\n",
       "      <td>0.0500</td>\n",
       "      <td>0.205</td>\n",
       "      <td>0.6325</td>\n",
       "      <td>7.39</td>\n",
       "    </tr>\n",
       "  </tbody>\n",
       "</table>\n",
       "</div>"
      ],
      "text/plain": [
       "          count      mean       std   min     25%    50%     75%    max\n",
       "platform                                                               \n",
       "PC        151.0  0.179139  0.329359  0.01  0.0200  0.060  0.2000   3.05\n",
       "PS4       376.0  0.766356  1.614970  0.01  0.0575  0.185  0.6900  14.63\n",
       "PSV       295.0  0.075932  0.141591  0.01  0.0200  0.040  0.0900   1.96\n",
       "XOne      228.0  0.615614  1.046512  0.01  0.0500  0.205  0.6325   7.39"
      ]
     },
     "execution_count": 35,
     "metadata": {},
     "output_type": "execute_result"
    }
   ],
   "source": [
    "#строим таблицу со средним, отклонением и квартилями\n",
    "best_platforms_actually_years.query('platform == \"PS4\" or platform == \"XOne\" or platform == \"PC\" or platform == \"PSV\"') \\\n",
    "    .groupby('platform')['sum_sales'].describe()"
   ]
  },
  {
   "cell_type": "code",
   "execution_count": 36,
   "id": "b208fc6f",
   "metadata": {},
   "outputs": [
    {
     "name": "stderr",
     "output_type": "stream",
     "text": [
      "/var/folders/6v/0vwd9g450k31l1j3q7c7b1b40000gn/T/ipykernel_53558/2697679256.py:4: MatplotlibDeprecationWarning: Auto-removal of overlapping axes is deprecated since 3.6 and will be removed two minor releases later; explicitly call ax.remove() as needed.\n",
      "  ax1 = plt.subplot(1,2,1)\n"
     ]
    },
    {
     "data": {
      "image/png": "[encoded data removed]",
      "text/plain": [
       "<Figure size 1500x600 with 2 Axes>"
      ]
     },
     "metadata": {},
     "output_type": "display_data"
    }
   ],
   "source": [
    "plt.subplots(figsize = (15,6))\n",
    "\n",
    "#переводим таблицу выше в формат графика\n",
    "ax1 = plt.subplot(1,2,1)\n",
    "best_platforms_actually_years.query('platform == \"PS4\" or platform == \"XOne\" or platform == \"PC\" or platform == \"PSV\"') \\\n",
    "    .boxplot(column='sum_sales', by='platform', ax=ax1);\n",
    "#добавим график в увеличенном масштабе\n",
    "ax2 = plt.subplot(1,2,2)\n",
    "best_platforms_actually_years.query('platform == \"PS4\" or platform == \"XOne\" or platform == \"PC\" or platform == \"PSV\"') \\\n",
    "    .boxplot(column='sum_sales', by='platform', showfliers=False, ax=ax2);\n",
    "plt.ylim(0, 2);"
   ]
  },
  {
   "cell_type": "markdown",
   "id": "3dfe9e9e",
   "metadata": {},
   "source": [
    "Видны сильные выбросы - экстремально высокие показатели продаж - по консолям XBoxONE и PlayStation4. При этом плотность выбросов очень высока у верхней границы межквартильного размаха. Это говорит о том, что достаточно большое количество игр имеет высокий показатель продаж (выше среднего). При том, что средние значения у этих консолей близки, у PlayStation4 выбросы более плотные, и стандартное отклонение больше XBoxONE в 1,5 раза. Это говорит о том, что продаж по данной консоли значительно больше, и стоит рассмотреть ее более подробно, как самую популярную платформу."
   ]
  },
  {
   "cell_type": "markdown",
   "id": "509aa47d",
   "metadata": {},
   "source": [
    "### Проверка зависимости уровня продаж от оценок пользователей и критиков:"
   ]
  },
  {
   "cell_type": "markdown",
   "id": "4ac91878",
   "metadata": {},
   "source": [
    "Стоит оценить, что влияет на высокий уровень продаж для самой популярной платформы. Для этого в первую очередь необходимо произвести расчеты зависимости глобального уровня продаж от оценки пользователей, а после - от оценки критиков."
   ]
  },
  {
   "cell_type": "code",
   "execution_count": 37,
   "id": "85f04bce",
   "metadata": {},
   "outputs": [
    {
     "data": {
      "text/plain": [
       "-0.04013158656330139"
      ]
     },
     "execution_count": 37,
     "metadata": {},
     "output_type": "execute_result"
    }
   ],
   "source": [
    "#коэффициент корреляции между суммой продаж и оценкой пользователей для PS4\n",
    "best_platforms_actually_years.query('platform == \"PS4\"')['sum_sales'] \\\n",
    "    .corr(best_platforms_actually_years.query('platform == \"PS4\"')['user_score'])"
   ]
  },
  {
   "cell_type": "code",
   "execution_count": 38,
   "id": "d5d0c2fa",
   "metadata": {},
   "outputs": [
    {
     "data": {
      "image/png": "[encoded data removed]",
      "text/plain": [
       "<Figure size 640x480 with 1 Axes>"
      ]
     },
     "metadata": {},
     "output_type": "display_data"
    }
   ],
   "source": [
    "#график рассеивания для PS4 уровня продаж в зависимости от оценки пользователей\n",
    "best_platforms_actually_years.query('platform == \"PS4\"') \\\n",
    "    .plot(x='user_score', y='sum_sales', kind='scatter', alpha=0.5, color='indigo', grid=True);\n",
    "plt.ylim(0,15);"
   ]
  },
  {
   "cell_type": "markdown",
   "id": "8f8231c4",
   "metadata": {},
   "source": [
    "Несмотря на очень слабую *обратную* зависимость, рассчитанную коэффициентом Пирсона, на графике рассеивания заметно увеличение высоты точек при увеличении рейтинга. Безусловно, игры с бОльшим пользовательским рейтингом имеют в какой-то мере лучшие продажи. Но однозначной сильной заивисимости нет. И разброс (рассеивание) показателей достаточно хаотично. Можно сделать вывод, что оценка пользователей ниже 6 баллов будет означать весьма скромные продажи."
   ]
  },
  {
   "cell_type": "code",
   "execution_count": 39,
   "id": "24ee69a4",
   "metadata": {},
   "outputs": [
    {
     "data": {
      "text/plain": [
       "0.4026614096967974"
      ]
     },
     "execution_count": 39,
     "metadata": {},
     "output_type": "execute_result"
    }
   ],
   "source": [
    "#коэффициент корреляции между суммой продаж и оценкой критиков для PS4\n",
    "best_platforms_actually_years.query('platform == \"PS4\"')['sum_sales'] \\\n",
    "    .corr(best_platforms_actually_years.query('platform == \"PS4\"')['critic_score'])"
   ]
  },
  {
   "cell_type": "code",
   "execution_count": 40,
   "id": "bb4dcd73",
   "metadata": {},
   "outputs": [
    {
     "data": {
      "image/png": "[encoded data removed]",
      "text/plain": [
       "<Figure size 640x480 with 1 Axes>"
      ]
     },
     "metadata": {},
     "output_type": "display_data"
    }
   ],
   "source": [
    "#график рассеивания для PS4 уровня продаж в зависимости от оценки критиков\n",
    "best_platforms_actually_years.query('platform == \"PS4\"') \\\n",
    "    .plot(x='critic_score', y='sum_sales', kind='scatter', alpha=0.5, color='indigo', grid=True);\n",
    "plt.ylim(0,10);"
   ]
  },
  {
   "cell_type": "markdown",
   "id": "7a2fe5d2",
   "metadata": {},
   "source": [
    "А вот график рассеивания по оценке критиков показывает более явную прямую зависимость. Видно явное увеличение количества продаж на отрезке оценок от 70 до 100. При этом рейтинг ниже 60 практически не влияет на количество продаж. О такой средней прямой заивсимости говорит и коэффициент Пирсона."
   ]
  },
  {
   "cell_type": "markdown",
   "id": "f93c49d9",
   "metadata": {},
   "source": [
    "**Таким образом можно сформулировать вывод, что оценка пользователей выше 6 совершенно незначительно положительно и оценка критиков выше 70 средне-положительно влияют на уровень продаж.**"
   ]
  },
  {
   "cell_type": "markdown",
   "id": "260b758a",
   "metadata": {},
   "source": [
    "Стоит проверить это утверждение и на других платформах из выделенных лидеров. Возьмем XBoxOne и PC:"
   ]
  },
  {
   "cell_type": "code",
   "execution_count": 41,
   "id": "a9175285",
   "metadata": {},
   "outputs": [
    {
     "name": "stdout",
     "output_type": "stream",
     "text": [
      "Зависимость продаж на платформе XOne от пользовательского рейтинга -0.07038393650888473\n",
      "Зависимость продаж на платформе XOne от оценки критиков 0.4286769420078522\n"
     ]
    },
    {
     "name": "stderr",
     "output_type": "stream",
     "text": [
      "/var/folders/6v/0vwd9g450k31l1j3q7c7b1b40000gn/T/ipykernel_53558/609015625.py:11: MatplotlibDeprecationWarning: Auto-removal of overlapping axes is deprecated since 3.6 and will be removed two minor releases later; explicitly call ax.remove() as needed.\n",
      "  ax1 = plt.subplot(1,2,1)\n"
     ]
    },
    {
     "name": "stdout",
     "output_type": "stream",
     "text": [
      "Зависимость продаж на платформе PC от пользовательского рейтинга -0.07159666305470336\n",
      "Зависимость продаж на платформе PC от оценки критиков 0.1746341296846939\n"
     ]
    },
    {
     "name": "stderr",
     "output_type": "stream",
     "text": [
      "/var/folders/6v/0vwd9g450k31l1j3q7c7b1b40000gn/T/ipykernel_53558/609015625.py:33: MatplotlibDeprecationWarning: Auto-removal of overlapping axes is deprecated since 3.6 and will be removed two minor releases later; explicitly call ax.remove() as needed.\n",
      "  ax1 = plt.subplot(1,2,1)\n"
     ]
    },
    {
     "data": {
      "image/png": "[encoded data removed]",
      "text/plain": [
       "<Figure size 1500x600 with 2 Axes>"
      ]
     },
     "metadata": {},
     "output_type": "display_data"
    },
    {
     "data": {
      "image/png": "[encoded data removed]",
      "text/plain": [
       "<Figure size 1500x600 with 2 Axes>"
      ]
     },
     "metadata": {},
     "output_type": "display_data"
    }
   ],
   "source": [
    "#коэффициент корреляции между суммой продаж и оценкой пользователей/критиков для XOne\n",
    "print('Зависимость продаж на платформе XOne от пользовательского рейтинга', \\\n",
    "      best_platforms_actually_years.query('platform == \"XOne\"')['sum_sales'] \\\n",
    "      .corr(best_platforms_actually_years.query('platform == \"XOne\"')['user_score']))\n",
    "print('Зависимость продаж на платформе XOne от оценки критиков', \\\n",
    "      best_platforms_actually_years.query('platform == \"XOne\"')['sum_sales'] \\\n",
    "      .corr(best_platforms_actually_years.query('platform == \"XOne\"')['critic_score']))\n",
    "#графики рассеивания для Xone\n",
    "plt.subplots(figsize=(15,6))\n",
    "#продажи/пользовательский рейтинг\n",
    "ax1 = plt.subplot(1,2,1)\n",
    "best_platforms_actually_years.query('platform == \"XOne\"') \\\n",
    "    .plot(x='user_score', y='sum_sales', kind='scatter', alpha=0.5, color='purple', grid=True, ax=ax1);\n",
    "plt.ylim(0,6);\n",
    "plt.title('Зависимость продаж на платформе XOne от пользовательского рейтинга');\n",
    "#продажи/рейтинг от критиков\n",
    "ax2 = plt.subplot(1,2,2)\n",
    "best_platforms_actually_years.query('platform == \"XOne\"') \\\n",
    "    .plot(x='critic_score', y='sum_sales', kind='scatter', alpha=0.5, color='purple', grid=True, ax=ax2);\n",
    "plt.ylim(0,6);\n",
    "plt.title('Зависимость продаж на платформе XOne от оценки критиков');\n",
    "\n",
    "#коэффициент корреляции между суммой продаж и оценкой пользователей/критиков для PC\n",
    "print('Зависимость продаж на платформе PC от пользовательского рейтинга', \\\n",
    "      best_platforms_actually_years.query('platform == \"PC\"')['sum_sales'] \\\n",
    "      .corr(best_platforms_actually_years.query('platform == \"PC\"')['user_score']))\n",
    "print('Зависимость продаж на платформе PC от оценки критиков', \\\n",
    "      best_platforms_actually_years.query('platform == \"PC\"')['sum_sales'] \\\n",
    "      .corr(best_platforms_actually_years.query('platform == \"PC\"')['critic_score']))\n",
    "#графики рассеивания для PC\n",
    "plt.subplots(figsize=(15,6))\n",
    "#продажи/пользовательский рейтинг\n",
    "ax1 = plt.subplot(1,2,1)\n",
    "best_platforms_actually_years.query('platform == \"PC\"') \\\n",
    "    .plot(x='user_score', y='sum_sales', kind='scatter', alpha=0.5, color='purple', grid=True, ax=ax1);\n",
    "plt.ylim(0,2);\n",
    "plt.title('Зависимость продаж на платформе PC от пользовательского рейтинга');\n",
    "#продажи/рейтинг от критиков\n",
    "ax2 = plt.subplot(1,2,2)\n",
    "best_platforms_actually_years.query('platform == \"PC\"') \\\n",
    "    .plot(x='critic_score', y='sum_sales', kind='scatter', alpha=0.5, color='purple', grid=True, ax=ax2);\n",
    "plt.ylim(0,2);\n",
    "plt.title('Зависимость продаж на платформе PC от оценки критиков');"
   ]
  },
  {
   "cell_type": "markdown",
   "id": "f05b045a",
   "metadata": {},
   "source": [
    "Расширив область рассмотрения до еще двух платформ, можно экстраполировать вышесказанный вывод для платформы XOne с небольшой корректировкой для пользовательского рейтинга: для этой платформы характерно минмиальное увеличение продаж при пользовательской оценке выше 5. Но зависимость настолько мала, что можно не опираться на эти наблдения в построении стратегий продаж.  \n",
    "А вот данные для ПК отличаются: для этой платформы вообще не характерна даже средняя зависимость уровня продаж от пользовательского рейтинга или оценки критиков. Минимальный рост суммы продаж заметен уже от 4 баллов пользовательского рейтинга, а у оценки критиков есть небольшой всплеск после 80 баллов. Однако как видно по коэффициентам корреляции - опираться на эту зависимость также было бы неверно."
   ]
  },
  {
   "cell_type": "markdown",
   "id": "11c892b9",
   "metadata": {},
   "source": [
    "### Проверка зависимости уровня продаж от жанра игры:"
   ]
  },
  {
   "cell_type": "markdown",
   "id": "a1106d0b",
   "metadata": {},
   "source": [
    "Для прогноза продаж также можно проверить, влияет ли жанр на уровень продаж. Можно оценить количество игр в том или ином жанре, а после посмотреть на медианную сумму продаж в срезе жанров. Медианное значение используется по причине большого количества \"выбросовых\" экстремальных значений для популярных жанров. Поэтому с точки зрения корректной оценки правильнее взять медиану:"
   ]
  },
  {
   "cell_type": "code",
   "execution_count": 42,
   "id": "0ef656dc",
   "metadata": {},
   "outputs": [
    {
     "data": {
      "image/png": "[encoded data removed]",
      "text/plain": [
       "<Figure size 1500x600 with 1 Axes>"
      ]
     },
     "metadata": {},
     "output_type": "display_data"
    }
   ],
   "source": [
    "#покажем выбросы, чтобы обосновать использование медианного значения\n",
    "best_platforms_actually_years.boxplot(column='sum_sales', by='genre', figsize=(15,6));\n",
    "plt.ylim(0,9);"
   ]
  },
  {
   "cell_type": "code",
   "execution_count": 43,
   "id": "feefcdca",
   "metadata": {},
   "outputs": [
    {
     "name": "stderr",
     "output_type": "stream",
     "text": [
      "/var/folders/6v/0vwd9g450k31l1j3q7c7b1b40000gn/T/ipykernel_53558/1145167168.py:3: MatplotlibDeprecationWarning: Auto-removal of overlapping axes is deprecated since 3.6 and will be removed two minor releases later; explicitly call ax.remove() as needed.\n",
      "  ax1 = plt.subplot(1,2,1)\n"
     ]
    },
    {
     "data": {
      "image/png": "[encoded data removed]",
      "text/plain": [
       "<Figure size 2000x800 with 2 Axes>"
      ]
     },
     "metadata": {},
     "output_type": "display_data"
    }
   ],
   "source": [
    "plt.subplots(figsize=(20,8))\n",
    "#Построение графика количества продаж по каждому жанру\n",
    "ax1 = plt.subplot(1,2,1)\n",
    "best_platforms_actually_years.pivot_table(index='genre', values='sum_sales', aggfunc=('count', 'median')) \\\n",
    "    .sort_values(by='count', ascending=False)['count'] \\\n",
    "    .plot(kind='bar', color='darkorchid', grid=True, ax=ax1);\n",
    "plt.title('Количество выпущенных игр по каждому жанру');\n",
    "#Построение графика суммы продаж по каждому жанру\n",
    "ax2 = plt.subplot(1,2,2)\n",
    "best_platforms_actually_years.pivot_table(index='genre', values='sum_sales', aggfunc=('count', 'median')) \\\n",
    "    .sort_values(by='count', ascending=False)['median'] \\\n",
    "    .plot(kind='bar', color='orchid', grid=True, ax=ax2);\n",
    "plt.title('Медианное значение продаж по каждому жанру');"
   ]
  },
  {
   "cell_type": "markdown",
   "id": "e2dc6f3f",
   "metadata": {},
   "source": [
    "По графикам видно, что наиболее часто-выпускаемым жанром является Экшн, следующая за ним позиция - ролевые игры, выпускается в 3 раза реже.  \n",
    "Но при этом медианное значение продаж этих двух позиций много меньше лидера медианной суммы продажи - Шутеров.  \n",
    "График медиан показывает, что наибольшая стоимость продаж как раз у Shooter, следом идут спортивные игры, и, удивительно, - Платформеры.\n",
    "Сопоставив два графика можно сказать:  \n",
    "1. Самым популярным жанром является Shooter. Даже при небольшом количестве выпускаемых игр, продажи идут с высоким спросом.\n",
    "2. Хорошую среднюю позицию занимают Sports игры - их количество входит в топ-5 и медианные продажи находятся на втором месте.\n",
    "3. Action игры занимают определенный высомый сегмент благодаря своему количеству, но медианные продажи таких игр невысоки. Однако в данном жанре больше всего \"выстреливающих\" игр с высокими продажами.\n",
    "3. Явным остающим является жанр Puzzle - с небольшим количеством выпускаемых игр и низким количеством продаж.\n",
    "4. Самой \"дешевой\" игрой являются приключения Adventure, но при этом количество выпускаемых игр замыкает топ-3 среди всех жанров."
   ]
  },
  {
   "cell_type": "markdown",
   "id": "bd902336",
   "metadata": {},
   "source": [
    "### Промежуточный вывод:"
   ]
  },
  {
   "cell_type": "markdown",
   "id": "7c212ac3",
   "metadata": {},
   "source": [
    "На основании изученных данных, можно сформировать целевые показатели для будущей рекламной кампании:  \n",
    "* Стоит рассматривать игры для PS4 и XBoxOne\n",
    "* Стоит выбрать игру из списка жанров: Shooter как критерий самого высокого количества продаж, Action как самый выпускаемый жанр, или Sports, как компенсирующий перевесы двух других жанров.\n",
    "* Предпочтение стоит отдать играм с оценкой критиков выше 70 баллов"
   ]
  },
  {
   "cell_type": "markdown",
   "id": "17fe2d7e",
   "metadata": {},
   "source": [
    "## Составление портрета пользователя каждого региона"
   ]
  },
  {
   "cell_type": "markdown",
   "id": "4055e665",
   "metadata": {},
   "source": [
    "Необходимо оценить, какие платформы и игровые жанры популярны у пользователей разных регионов. А также проверить, как возрастной рейтинг влияет на уровень продаж."
   ]
  },
  {
   "cell_type": "markdown",
   "id": "eb6ed85c",
   "metadata": {},
   "source": [
    "### Определение топ-5 платформ для разных регионов"
   ]
  },
  {
   "cell_type": "code",
   "execution_count": 44,
   "id": "c8618bad",
   "metadata": {},
   "outputs": [
    {
     "data": {
      "image/png": "[encoded data removed]",
      "text/plain": [
       "<Figure size 1500x500 with 1 Axes>"
      ]
     },
     "metadata": {},
     "output_type": "display_data"
    }
   ],
   "source": [
    "#построение графика суммы продаж в разных регионах по популярным платформам\n",
    "best_platforms_actually_years.pivot_table(index='platform', values=('na_sales', 'jp_sales', 'eu_sales'), aggfunc='sum') \\\n",
    "    .plot(kind='bar', grid=True, figsize=(15,5));\n",
    "plt.title('Сумма продаж в регионах по популярным платформам');"
   ]
  },
  {
   "cell_type": "markdown",
   "id": "c79d9257",
   "metadata": {},
   "source": [
    "Ожидаемо яркие экстремумы видны для платформ PS4 и XBoxOne. Однако предпочтения по регионам разделились весьмв интересно:  \n",
    "\n",
    "Пользователи из *Северной Америки* отдают максимальное предпочтение следующим платформам:  \n",
    "1. PS4\n",
    "2. XBoxOne\n",
    "3. PS3\n",
    "4. PC\n",
    "5. XBox360  \n",
    "  \n",
    "Пользователи из *Европы* отдают максимальное предпочтение следующим платформам:  \n",
    "1. PS4\n",
    "2. XBoxOne\n",
    "3. XBox360\n",
    "4. Nintendo3DS\n",
    "5. PS3  \n",
    "  \n",
    "Пользователи из *Японии* отдают максимальное предпочтение следующим платформам:  \n",
    "1. Nintendo3DS\n",
    "2. PS4\n",
    "3. PSV\n",
    "4. PS3\n",
    "5. Nintendo WiiU"
   ]
  },
  {
   "cell_type": "markdown",
   "id": "11b990f8",
   "metadata": {},
   "source": [
    "Среди игроманов в Северной Америке популярны самые известные консоли PlayStation и XBox, а также весьма распространены компьютерные игры для ПК. При этом PlayStation - неоспоримый лидер. Суммарные продажи по новой и старой версии консолей превышают продажи по двум консолям XBox.  \n",
    "Европейцы же предпочитают PS и Xbox в равной степени, если просуммировать продажи по устаревающей и новой версиям консолей. При этом, в предпочтениях появилась портативная консоль 3DS.  \n",
    "Японцы в этом сравнении могут выступить адептами портативных консолей. Лидером продаж в регионе восходящего солнца является платформа 3DS, и суммарные продажи для портативных платформ превышают суммарные продажи по платформам PS 3 и 4.  \n",
    "Во многом, такое сильное отличие Японского рынка можно объяснить двумя локальными факторами: образ жизни (большую часть времени жители Японии проводят на работе), и жесткая игровая цензура. В Японии запрещено большое количество игр с пометкой 18+"
   ]
  },
  {
   "cell_type": "markdown",
   "id": "210e414f",
   "metadata": {},
   "source": [
    "### Определение топ-5 игровых жанров для разных регионов"
   ]
  },
  {
   "cell_type": "code",
   "execution_count": 45,
   "id": "36a4a05e",
   "metadata": {},
   "outputs": [
    {
     "data": {
      "image/png": "[encoded data removed]",
      "text/plain": [
       "<Figure size 1500x500 with 1 Axes>"
      ]
     },
     "metadata": {},
     "output_type": "display_data"
    }
   ],
   "source": [
    "#построение графика суммы продаж в разных регионах по жанрам\n",
    "best_platforms_actually_years.pivot_table(index='genre', values=('na_sales', 'jp_sales', 'eu_sales'), aggfunc='sum') \\\n",
    "    .plot(kind='bar', grid=True, figsize=(15,5));\n",
    "plt.title('Сумма продаж в регионах по жанрам');"
   ]
  },
  {
   "cell_type": "markdown",
   "id": "361c7fbb",
   "metadata": {},
   "source": [
    "На графике опять же видна схожесть предпочтений пользователей из Северной Америки и Европы, и кардинальное отличие Японского рынка.  \n",
    "  \n",
    "Для Североамериканских игроманов можно выделить следующие топовые жанры:  \n",
    "1. Action\n",
    "2. Shooter\n",
    "3. Sports\n",
    "4. Role-Playing\n",
    "5. Racing\n",
    "\n",
    "У Европейских пользователей список немного иной:  \n",
    "1. Shooter\n",
    "2. Action\n",
    "3. Sports\n",
    "4. Role-Playing\n",
    "5. Misc\n",
    "\n",
    "А для Японских игроков любимые жанры выглядят так:  \n",
    "1. Role-Playing\n",
    "2. Action\n",
    "3. Fighting\n",
    "4. Misc\n",
    "5. Shooter"
   ]
  },
  {
   "cell_type": "markdown",
   "id": "bb6f3976",
   "metadata": {},
   "source": [
    "### Определение влияния возрастного рейтинга на продажи в разных регионах"
   ]
  },
  {
   "cell_type": "code",
   "execution_count": 46,
   "id": "c796f7b8",
   "metadata": {},
   "outputs": [
    {
     "data": {
      "image/png": "[encoded data removed]",
      "text/plain": [
       "<Figure size 1000x500 with 1 Axes>"
      ]
     },
     "metadata": {},
     "output_type": "display_data"
    }
   ],
   "source": [
    "#построение графика суммы продаж в разных регионах по жанрам\n",
    "best_platforms_actually_years.pivot_table(index='rating', values=('na_sales', 'jp_sales', 'eu_sales'), aggfunc='sum') \\\n",
    "    .plot(kind='bar', grid=True, figsize=(10,5));\n",
    "plt.title('Сумма продаж в регионах в соответствии с рейтингами ESRB');"
   ]
  },
  {
   "cell_type": "markdown",
   "id": "03d55329",
   "metadata": {},
   "source": [
    "По представленному графику активно читается положительное влияние рейтинга M (17+) на продажи в Северной Америке и Европе.  \n",
    "А вот для Японского рынка влияние рейтинга не характерно - уровень продаж с известным рейтингом имеет совершенно небольшие колебания, и максимальное количество игр было продано вообще без оценки ESRB. Такое отличие на Японском рынке объясняется наличием локального рейтингового агентства, на оценку которого ориентируется большинство Японских пользователей."
   ]
  },
  {
   "cell_type": "markdown",
   "id": "27dc636e",
   "metadata": {},
   "source": [
    "### Промежуточный вывод:"
   ]
  },
  {
   "cell_type": "markdown",
   "id": "02cc3b28",
   "metadata": {},
   "source": [
    "На основании проведенного анализа, можно сформировать усредненный портрет игромана каждого региона:  \n",
    "* Североамериканский пользователь скорее всего будет играть в экшн-игру для лиц, старше 17 лет, на PlayStation 4\n",
    "* Европейский пользователь предпочтет взрослый \"шутер\" также на PlayStation 4\n",
    "* А Японский игрок наверняка играет в ролевую игру любого возрастного рейтинга или неустановленного на портативном Nintendo 3DS"
   ]
  },
  {
   "cell_type": "markdown",
   "id": "05f0c087",
   "metadata": {},
   "source": [
    "## Проверка гипотез"
   ]
  },
  {
   "cell_type": "markdown",
   "id": "4c2ce752",
   "metadata": {},
   "source": [
    "Для понимания пользовательских предпочтений стоит расширить некоторые выводы глобально, а не только в рамках представленных данных. Это можно сделать с помощью проверки гипотез о соотношении средних значений. Так, стоит сравнить средние пользовательские рейтинги платформ Xbox One и PC.  \n",
    "Будем формировать нулевые и альтернативные гипотезы для т-тестов канонически: нулевая гипотеза будет со знаком равно, альтернативная двухстороняя гипотеза - значения НЕ равны.\n",
    "Для проверки гипотез о равенстве среднего двух генеральных совокупностей по взятым из них выборкам будет применяться метод t-test_ind, так как значения в выборках (пользовательские рейтинги по разным платформам или жанрам) - независимые величины, стремящиеся к нормальному распределению.\n",
    "\n",
    "Сформируем первую нулевую гипотезу: Пользовательские рейтинги платформ XBoxOne и PC равны. Альтернативная гипотеза: Пользовательские рейтинги платформ НЕ равны."
   ]
  },
  {
   "cell_type": "code",
   "execution_count": 47,
   "id": "a649e4d6",
   "metadata": {},
   "outputs": [],
   "source": [
    "#введем переменные для выборок\n",
    "xone_user_score = best_platforms_actually_years.query('platform == \"XOne\" and user_score > 0')['user_score']\n",
    "pc_user_score = best_platforms_actually_years.query('platform == \"PC\" and user_score > 0')['user_score']"
   ]
  },
  {
   "cell_type": "code",
   "execution_count": 48,
   "id": "b4937867",
   "metadata": {},
   "outputs": [
    {
     "data": {
      "image/png": "[encoded data removed]",
      "text/plain": [
       "<Figure size 640x480 with 1 Axes>"
      ]
     },
     "metadata": {},
     "output_type": "display_data"
    }
   ],
   "source": [
    "#проверим близость выборок к нормальному распределению\n",
    "xone_user_score.hist(bins=10, color='purple');\n",
    "pc_user_score.hist(bins=10, alpha=0.7, color='orchid');"
   ]
  },
  {
   "cell_type": "markdown",
   "id": "4dd12792",
   "metadata": {},
   "source": [
    "Представленная выборка хоть и неидеально нормально-распределенная, однако имеет стремление. Значит применение метода исследования допустимо."
   ]
  },
  {
   "cell_type": "code",
   "execution_count": 49,
   "id": "8dc220b6",
   "metadata": {},
   "outputs": [
    {
     "name": "stdout",
     "output_type": "stream",
     "text": [
      "Пороговое значение 0.01\n",
      "P-значение 0.11601545900050317\n",
      "Не удалось отвергнуть нулевую гипотезу\n"
     ]
    }
   ],
   "source": [
    "#проверка гипотезы\n",
    "alpha = .01\n",
    "print('Пороговое значение', alpha)\n",
    "result = st.ttest_ind(\n",
    "        xone_user_score,\n",
    "        pc_user_score,\n",
    "        equal_var = False)\n",
    "print('P-значение', result.pvalue)\n",
    "if result.pvalue < alpha:\n",
    "    print('Отвергаем нулевую гипотезу')\n",
    "else:\n",
    "    print('Не удалось отвергнуть нулевую гипотезу')"
   ]
  },
  {
   "cell_type": "markdown",
   "id": "6d83d79a",
   "metadata": {},
   "source": [
    "Т-тест показал, что вероятность получить неравные значения средних пользовательских рейтингов для XBox One и PC в выборках с таким же распределением, как представленные данные, выше 11%. Это достаточно высокое значение, поэтому однозначно сказать, что средний пользовательский рейтинг игр для этих платформ разнится - нельзя.  "
   ]
  },
  {
   "cell_type": "markdown",
   "id": "7106cf65",
   "metadata": {},
   "source": [
    "Следующая метрика, интересная для изучения, пользовательские рейтинги в разрезе популярных жанров. Сравнению подлежат средние пользовательские рейтинги жанров Action (англ. «действие», экшен-игры) и Sports (англ. «спортивные соревнования»).  \n",
    "\n",
    "Сформируем нулевую гипотезу: Средние пользовательские рейтинги для жанра Action и жанра Sports равны. Альтернативная гипотеза: Средние пользовательские рейтинги жанров Action и Sports разные."
   ]
  },
  {
   "cell_type": "code",
   "execution_count": 50,
   "id": "dce6f502",
   "metadata": {},
   "outputs": [],
   "source": [
    "#введем переменные для выборок\n",
    "action_user_score = best_platforms_actually_years.query('genre == \"Action\" and user_score > 0')['user_score']\n",
    "sports_user_score = best_platforms_actually_years.query('genre == \"Sports\" and user_score > 0')['user_score']"
   ]
  },
  {
   "cell_type": "code",
   "execution_count": 51,
   "id": "8dcd67c7",
   "metadata": {},
   "outputs": [
    {
     "data": {
      "image/png": "[encoded data removed]",
      "text/plain": [
       "<Figure size 640x480 with 1 Axes>"
      ]
     },
     "metadata": {},
     "output_type": "display_data"
    }
   ],
   "source": [
    "#проверим близость выборок к нормальному распределению\n",
    "action_user_score.hist(bins=10, alpha=0.7, color='purple');\n",
    "sports_user_score.hist(bins=10, alpha=0.7, color='orchid');"
   ]
  },
  {
   "cell_type": "markdown",
   "id": "dceb091a",
   "metadata": {},
   "source": [
    "Вторая переменная с разбивкой по рейтингу для жанра Sports менее похожа на нормальное распределение. Однако размер выборки составляет более 100 значений, а значит допустимо использовать метод ttest_ind"
   ]
  },
  {
   "cell_type": "code",
   "execution_count": 52,
   "id": "5a9880e1",
   "metadata": {},
   "outputs": [
    {
     "name": "stdout",
     "output_type": "stream",
     "text": [
      "Пороговое значение 0.01\n",
      "P-значение 1.1825638224397033e-14\n",
      "Отвергаем нулевую гипотезу\n"
     ]
    }
   ],
   "source": [
    "#проверка гипотезы\n",
    "alpha = .01\n",
    "print('Пороговое значение', alpha)\n",
    "result = st.ttest_ind(\n",
    "        action_user_score,\n",
    "        sports_user_score,\n",
    "        equal_var = False)\n",
    "print('P-значение', result.pvalue)\n",
    "if result.pvalue < alpha:\n",
    "    print('Отвергаем нулевую гипотезу')\n",
    "else:\n",
    "    print('Не удалось отвергнуть нулевую гипотезу')"
   ]
  },
  {
   "cell_type": "markdown",
   "id": "44511893",
   "metadata": {},
   "source": [
    "Полученный результат говорит о том, что средние пользовательские рейтинги не равны. Вероятность в одну статриллионную получить неравные значения средних в выборках при их равенстве на самом деле - очень ярко говорит об этом.  \n",
    "Стоит оценить хотя бы примерно, в какую сторону идет перевес, для этого просто рассчитаем средние значения в выборке:"
   ]
  },
  {
   "cell_type": "code",
   "execution_count": 53,
   "id": "0459692a",
   "metadata": {},
   "outputs": [
    {
     "name": "stdout",
     "output_type": "stream",
     "text": [
      "Средний пользовательский рейтинг для жанра Action 6.760606\n",
      "Средний пользовательский рейтинг для жанра Sports 5.225197\n"
     ]
    }
   ],
   "source": [
    "print('Средний пользовательский рейтинг для жанра Action', action_user_score.mean())\n",
    "print('Средний пользовательский рейтинг для жанра Sports', sports_user_score.mean())"
   ]
  },
  {
   "cell_type": "markdown",
   "id": "ae79d645",
   "metadata": {},
   "source": [
    "В представленных данных рейтинг для Экшн-игр выше. Однако нельзя однозначно сказать, что Альтернативную гипотезу можно переименовать в \"Средний пользовательский рейтинг Action больше Sports\". Для этого необходимо провести дополнительные тесты."
   ]
  },
  {
   "cell_type": "markdown",
   "id": "22809e65",
   "metadata": {},
   "source": [
    "### Промежуточные выводы:"
   ]
  },
  {
   "cell_type": "markdown",
   "id": "cef41640",
   "metadata": {},
   "source": [
    "Полученные результаты доказали, что с определенной вероятностью, средний пользовательский рейтинг игр на платформе XBox One будет равен среднему пользовательскому рейтингу для ПК. И наоборот, средний рейтинг Экшн-игр не равен рейтингу Спортивных игр."
   ]
  },
  {
   "cell_type": "markdown",
   "id": "95080e37",
   "metadata": {},
   "source": [
    "## Общие выводы"
   ]
  },
  {
   "cell_type": "markdown",
   "id": "f9583a0f",
   "metadata": {},
   "source": [
    "Данное исследование имело цель выявить определяющие успешность игры закономерности, с целью построения рекламной кампании для магазина \"Стримчик\" на 2017 год.  \n",
    "Обобщим все полученные итоги:"
   ]
  },
  {
   "cell_type": "markdown",
   "id": "7e83839e",
   "metadata": {},
   "source": [
    "Для анализа использовались данные с 2014 по 2016 года."
   ]
  },
  {
   "cell_type": "markdown",
   "id": "87b944a0",
   "metadata": {},
   "source": [
    "1. Наиболее актуальными платформами выступают PlayStation 4 и XBox One. Их актуальность будет нарастать в 2017 году и сохраняться еще на протяжении 4-5 лет, до выхода на рынок обновленных версий этих платформ.  Наиболее стабильной платформой со средним уровнем продаж остается ПК. В среднем, удовлетвореннось пользователей от игр на платформах XOne и ПК одинакова."
   ]
  },
  {
   "cell_type": "markdown",
   "id": "0174c67b",
   "metadata": {},
   "source": [
    "2. Среди жанровых предпочтений у большинства пользователей лидируют Shooter, Sports и Action. При этом пользовательский рейтинг у Action будет больше Sports, поэтому упор стоит делать на Shooter и Action."
   ]
  },
  {
   "cell_type": "markdown",
   "id": "9501b4ec",
   "metadata": {},
   "source": [
    "3. Наибольшую популярность будут иметь игры с международным возрастным рейтингом М (17+)."
   ]
  },
  {
   "cell_type": "markdown",
   "id": "3bfb9e4a",
   "metadata": {},
   "source": [
    "4. Оценка критиков от 70 баллов вызывает доверие пользователей и косвенно влияет на продажи."
   ]
  },
  {
   "cell_type": "markdown",
   "id": "846543f7",
   "metadata": {},
   "source": [
    "5. Рынок Японии кардинально отличается поведением и предпочтением пользователей. Вышеуказанные заключения практически неприменимы для данного региона. При планировании кампании для японских игроков, стоит делать упор на портативные платформы - 3DS, ролевые игры Role-Playing, и не ориентироваться на возрастной рейтинг ESRB."
   ]
  }
 ],
 "metadata": {
  "ExecuteTimeLog": [
   {
    "duration": 1348,
    "start_time": "2022-11-19T04:15:21.949Z"
   },
   {
    "duration": 183,
    "start_time": "2022-11-19T04:15:23.299Z"
   },
   {
    "duration": 76,
    "start_time": "2022-11-19T04:15:23.484Z"
   },
   {
    "duration": 4,
    "start_time": "2022-11-19T04:15:23.561Z"
   },
   {
    "duration": 7,
    "start_time": "2022-11-19T04:15:23.567Z"
   },
   {
    "duration": 5,
    "start_time": "2022-11-19T04:15:23.576Z"
   },
   {
    "duration": 10,
    "start_time": "2022-11-19T04:15:23.583Z"
   },
   {
    "duration": 673,
    "start_time": "2022-11-19T04:15:23.595Z"
   },
   {
    "duration": 9,
    "start_time": "2022-11-19T04:15:24.269Z"
   },
   {
    "duration": 9,
    "start_time": "2022-11-19T04:15:24.279Z"
   },
   {
    "duration": 10,
    "start_time": "2022-11-19T04:15:24.289Z"
   },
   {
    "duration": 8,
    "start_time": "2022-11-19T04:15:24.301Z"
   },
   {
    "duration": 54,
    "start_time": "2022-11-19T04:15:24.311Z"
   },
   {
    "duration": 8,
    "start_time": "2022-11-19T04:15:24.368Z"
   },
   {
    "duration": 5,
    "start_time": "2022-11-19T04:15:24.378Z"
   },
   {
    "duration": 144,
    "start_time": "2022-11-19T04:15:24.385Z"
   },
   {
    "duration": 30,
    "start_time": "2022-11-19T04:15:24.531Z"
   },
   {
    "duration": 8,
    "start_time": "2022-11-19T04:15:24.563Z"
   },
   {
    "duration": 6,
    "start_time": "2022-11-19T04:15:24.573Z"
   },
   {
    "duration": 8,
    "start_time": "2022-11-19T04:15:24.581Z"
   },
   {
    "duration": 7,
    "start_time": "2022-11-19T04:15:24.591Z"
   },
   {
    "duration": 8,
    "start_time": "2022-11-19T04:15:24.600Z"
   },
   {
    "duration": 15,
    "start_time": "2022-11-19T04:15:27.680Z"
   },
   {
    "duration": 3,
    "start_time": "2022-11-19T04:18:53.763Z"
   },
   {
    "duration": 60,
    "start_time": "2022-11-19T04:18:53.768Z"
   },
   {
    "duration": 67,
    "start_time": "2022-11-19T04:18:53.830Z"
   },
   {
    "duration": 4,
    "start_time": "2022-11-19T04:18:53.900Z"
   },
   {
    "duration": 8,
    "start_time": "2022-11-19T04:18:53.905Z"
   },
   {
    "duration": 4,
    "start_time": "2022-11-19T04:18:53.914Z"
   },
   {
    "duration": 30,
    "start_time": "2022-11-19T04:18:53.920Z"
   },
   {
    "duration": 680,
    "start_time": "2022-11-19T04:18:53.952Z"
   },
   {
    "duration": 20,
    "start_time": "2022-11-19T04:18:54.635Z"
   },
   {
    "duration": 7,
    "start_time": "2022-11-19T04:18:54.657Z"
   },
   {
    "duration": 10,
    "start_time": "2022-11-19T04:18:54.666Z"
   },
   {
    "duration": 8,
    "start_time": "2022-11-19T04:18:54.678Z"
   },
   {
    "duration": 21,
    "start_time": "2022-11-19T04:18:54.687Z"
   },
   {
    "duration": 10,
    "start_time": "2022-11-19T04:18:54.709Z"
   },
   {
    "duration": 33,
    "start_time": "2022-11-19T04:18:54.720Z"
   },
   {
    "duration": 127,
    "start_time": "2022-11-19T04:18:54.755Z"
   },
   {
    "duration": 21,
    "start_time": "2022-11-19T04:18:54.883Z"
   },
   {
    "duration": 7,
    "start_time": "2022-11-19T04:18:54.905Z"
   },
   {
    "duration": 6,
    "start_time": "2022-11-19T04:18:54.914Z"
   },
   {
    "duration": 31,
    "start_time": "2022-11-19T04:18:54.921Z"
   },
   {
    "duration": 5,
    "start_time": "2022-11-19T04:18:54.954Z"
   },
   {
    "duration": 10,
    "start_time": "2022-11-19T04:18:54.960Z"
   },
   {
    "duration": 5,
    "start_time": "2022-11-19T04:18:54.972Z"
   },
   {
    "duration": 352,
    "start_time": "2022-11-19T04:18:54.980Z"
   },
   {
    "duration": 296,
    "start_time": "2022-11-19T04:18:55.334Z"
   },
   {
    "duration": 175,
    "start_time": "2022-11-19T04:18:55.632Z"
   },
   {
    "duration": 8,
    "start_time": "2022-11-19T04:18:55.808Z"
   },
   {
    "duration": 9,
    "start_time": "2022-11-19T04:18:55.818Z"
   },
   {
    "duration": 304,
    "start_time": "2022-11-19T04:18:55.828Z"
   },
   {
    "duration": 176,
    "start_time": "2022-11-19T04:18:56.133Z"
   },
   {
    "duration": 1072,
    "start_time": "2022-11-19T04:18:56.311Z"
   },
   {
    "duration": 6,
    "start_time": "2022-11-19T04:18:57.385Z"
   },
   {
    "duration": 30,
    "start_time": "2022-11-19T04:18:57.393Z"
   },
   {
    "duration": 322,
    "start_time": "2022-11-19T04:18:57.425Z"
   },
   {
    "duration": 288,
    "start_time": "2022-11-19T04:19:07.606Z"
   },
   {
    "duration": 393,
    "start_time": "2022-11-19T04:19:14.344Z"
   },
   {
    "duration": 11,
    "start_time": "2022-11-19T04:20:04.533Z"
   },
   {
    "duration": 22,
    "start_time": "2022-11-19T04:21:43.341Z"
   },
   {
    "duration": 1158,
    "start_time": "2022-11-19T04:31:53.603Z"
   },
   {
    "duration": 53,
    "start_time": "2022-11-19T04:31:54.763Z"
   },
   {
    "duration": 73,
    "start_time": "2022-11-19T04:31:54.818Z"
   },
   {
    "duration": 4,
    "start_time": "2022-11-19T04:31:54.892Z"
   },
   {
    "duration": 8,
    "start_time": "2022-11-19T04:31:54.898Z"
   },
   {
    "duration": 5,
    "start_time": "2022-11-19T04:31:54.907Z"
   },
   {
    "duration": 13,
    "start_time": "2022-11-19T04:31:54.913Z"
   },
   {
    "duration": 699,
    "start_time": "2022-11-19T04:31:54.927Z"
   },
   {
    "duration": 9,
    "start_time": "2022-11-19T04:31:55.628Z"
   },
   {
    "duration": 15,
    "start_time": "2022-11-19T04:31:55.638Z"
   },
   {
    "duration": 10,
    "start_time": "2022-11-19T04:31:55.655Z"
   },
   {
    "duration": 9,
    "start_time": "2022-11-19T04:31:55.667Z"
   },
   {
    "duration": 22,
    "start_time": "2022-11-19T04:31:55.678Z"
   },
   {
    "duration": 10,
    "start_time": "2022-11-19T04:31:55.703Z"
   },
   {
    "duration": 38,
    "start_time": "2022-11-19T04:31:55.715Z"
   },
   {
    "duration": 137,
    "start_time": "2022-11-19T04:31:55.756Z"
   },
   {
    "duration": 21,
    "start_time": "2022-11-19T04:31:55.895Z"
   },
   {
    "duration": 8,
    "start_time": "2022-11-19T04:31:55.918Z"
   },
   {
    "duration": 23,
    "start_time": "2022-11-19T04:31:55.928Z"
   },
   {
    "duration": 9,
    "start_time": "2022-11-19T04:31:55.953Z"
   },
   {
    "duration": 7,
    "start_time": "2022-11-19T04:31:55.964Z"
   },
   {
    "duration": 9,
    "start_time": "2022-11-19T04:31:55.972Z"
   },
   {
    "duration": 5,
    "start_time": "2022-11-19T04:31:55.983Z"
   },
   {
    "duration": 378,
    "start_time": "2022-11-19T04:31:55.989Z"
   },
   {
    "duration": 311,
    "start_time": "2022-11-19T04:31:56.369Z"
   },
   {
    "duration": 212,
    "start_time": "2022-11-19T04:31:56.682Z"
   },
   {
    "duration": 9,
    "start_time": "2022-11-19T04:31:56.896Z"
   },
   {
    "duration": 7,
    "start_time": "2022-11-19T04:31:56.907Z"
   },
   {
    "duration": 330,
    "start_time": "2022-11-19T04:31:56.916Z"
   },
   {
    "duration": 178,
    "start_time": "2022-11-19T04:31:57.249Z"
   },
   {
    "duration": 1119,
    "start_time": "2022-11-19T04:31:57.428Z"
   },
   {
    "duration": 6,
    "start_time": "2022-11-19T04:31:58.549Z"
   },
   {
    "duration": 26,
    "start_time": "2022-11-19T04:31:58.557Z"
   },
   {
    "duration": 332,
    "start_time": "2022-11-19T04:31:58.585Z"
   },
   {
    "duration": 10,
    "start_time": "2022-11-19T04:31:58.918Z"
   },
   {
    "duration": 170,
    "start_time": "2022-11-19T04:31:58.930Z"
   },
   {
    "duration": 9,
    "start_time": "2022-11-19T04:31:59.102Z"
   },
   {
    "duration": 179,
    "start_time": "2022-11-19T04:31:59.113Z"
   },
   {
    "duration": 416,
    "start_time": "2022-11-19T04:31:59.294Z"
   },
   {
    "duration": 451,
    "start_time": "2022-11-19T04:31:59.712Z"
   },
   {
    "duration": 258,
    "start_time": "2022-11-19T04:32:00.168Z"
   },
   {
    "duration": 332,
    "start_time": "2022-11-19T04:32:00.428Z"
   },
   {
    "duration": 200,
    "start_time": "2022-11-19T04:32:00.762Z"
   },
   {
    "duration": 11,
    "start_time": "2022-11-19T04:32:00.964Z"
   },
   {
    "duration": 242,
    "start_time": "2022-11-19T04:32:00.976Z"
   },
   {
    "duration": 6,
    "start_time": "2022-11-19T04:32:01.219Z"
   },
   {
    "duration": 52,
    "start_time": "2022-11-19T04:32:01.227Z"
   },
   {
    "duration": 171,
    "start_time": "2022-11-19T04:32:01.281Z"
   },
   {
    "duration": 7,
    "start_time": "2022-11-19T04:32:01.454Z"
   },
   {
    "duration": 16,
    "start_time": "2022-11-19T04:32:01.462Z"
   },
   {
    "duration": 42,
    "start_time": "2022-11-19T10:55:32.296Z"
   },
   {
    "duration": 1232,
    "start_time": "2022-11-19T10:55:42.825Z"
   },
   {
    "duration": 88,
    "start_time": "2022-11-19T10:55:44.059Z"
   },
   {
    "duration": 67,
    "start_time": "2022-11-19T10:55:44.149Z"
   },
   {
    "duration": 6,
    "start_time": "2022-11-19T10:55:44.218Z"
   },
   {
    "duration": 19,
    "start_time": "2022-11-19T10:55:44.226Z"
   },
   {
    "duration": 5,
    "start_time": "2022-11-19T10:55:44.246Z"
   },
   {
    "duration": 10,
    "start_time": "2022-11-19T10:55:44.252Z"
   },
   {
    "duration": 650,
    "start_time": "2022-11-19T10:55:44.263Z"
   },
   {
    "duration": 11,
    "start_time": "2022-11-19T10:55:44.915Z"
   },
   {
    "duration": 7,
    "start_time": "2022-11-19T10:55:44.928Z"
   },
   {
    "duration": 11,
    "start_time": "2022-11-19T10:55:44.936Z"
   },
   {
    "duration": 4,
    "start_time": "2022-11-19T10:55:47.381Z"
   },
   {
    "duration": 8,
    "start_time": "2022-11-19T10:55:53.623Z"
   },
   {
    "duration": 4,
    "start_time": "2022-11-19T11:14:24.268Z"
   },
   {
    "duration": 73,
    "start_time": "2022-11-19T11:14:24.274Z"
   },
   {
    "duration": 84,
    "start_time": "2022-11-19T11:14:24.349Z"
   },
   {
    "duration": 4,
    "start_time": "2022-11-19T11:14:24.435Z"
   },
   {
    "duration": 17,
    "start_time": "2022-11-19T11:14:24.442Z"
   },
   {
    "duration": 14,
    "start_time": "2022-11-19T11:14:24.461Z"
   },
   {
    "duration": 30,
    "start_time": "2022-11-19T11:14:24.477Z"
   },
   {
    "duration": 668,
    "start_time": "2022-11-19T11:14:24.509Z"
   },
   {
    "duration": 7,
    "start_time": "2022-11-19T11:14:25.178Z"
   },
   {
    "duration": 18,
    "start_time": "2022-11-19T11:14:25.187Z"
   },
   {
    "duration": 36,
    "start_time": "2022-11-19T11:14:25.207Z"
   },
   {
    "duration": 20,
    "start_time": "2022-11-19T11:14:25.244Z"
   },
   {
    "duration": 35,
    "start_time": "2022-11-19T11:14:25.266Z"
   },
   {
    "duration": 47,
    "start_time": "2022-11-19T11:14:25.303Z"
   },
   {
    "duration": 12,
    "start_time": "2022-11-19T11:14:25.352Z"
   },
   {
    "duration": 32,
    "start_time": "2022-11-19T11:14:25.366Z"
   },
   {
    "duration": 153,
    "start_time": "2022-11-19T11:14:25.400Z"
   },
   {
    "duration": 19,
    "start_time": "2022-11-19T11:14:25.555Z"
   },
   {
    "duration": 6,
    "start_time": "2022-11-19T11:14:25.575Z"
   },
   {
    "duration": 11,
    "start_time": "2022-11-19T11:14:25.583Z"
   },
   {
    "duration": 13,
    "start_time": "2022-11-19T11:14:33.874Z"
   },
   {
    "duration": 5,
    "start_time": "2022-11-19T11:14:37.735Z"
   },
   {
    "duration": 4,
    "start_time": "2022-11-19T11:14:40.518Z"
   },
   {
    "duration": 168,
    "start_time": "2022-11-19T11:16:11.172Z"
   },
   {
    "duration": 3,
    "start_time": "2022-11-19T11:16:17.013Z"
   },
   {
    "duration": 54,
    "start_time": "2022-11-19T11:16:17.018Z"
   },
   {
    "duration": 61,
    "start_time": "2022-11-19T11:16:17.074Z"
   },
   {
    "duration": 4,
    "start_time": "2022-11-19T11:16:17.136Z"
   },
   {
    "duration": 8,
    "start_time": "2022-11-19T11:16:17.142Z"
   },
   {
    "duration": 6,
    "start_time": "2022-11-19T11:16:17.151Z"
   },
   {
    "duration": 10,
    "start_time": "2022-11-19T11:16:17.158Z"
   },
   {
    "duration": 653,
    "start_time": "2022-11-19T11:16:17.169Z"
   },
   {
    "duration": 7,
    "start_time": "2022-11-19T11:16:17.824Z"
   },
   {
    "duration": 11,
    "start_time": "2022-11-19T11:16:17.832Z"
   },
   {
    "duration": 11,
    "start_time": "2022-11-19T11:16:17.844Z"
   },
   {
    "duration": 4,
    "start_time": "2022-11-19T11:16:17.856Z"
   },
   {
    "duration": 8,
    "start_time": "2022-11-19T11:16:17.861Z"
   },
   {
    "duration": 19,
    "start_time": "2022-11-19T11:16:17.872Z"
   },
   {
    "duration": 6,
    "start_time": "2022-11-19T11:16:17.893Z"
   },
   {
    "duration": 4,
    "start_time": "2022-11-19T11:16:17.922Z"
   },
   {
    "duration": 125,
    "start_time": "2022-11-19T11:16:17.928Z"
   },
   {
    "duration": 19,
    "start_time": "2022-11-19T11:16:18.055Z"
   },
   {
    "duration": 5,
    "start_time": "2022-11-19T11:16:18.076Z"
   },
   {
    "duration": 23,
    "start_time": "2022-11-19T11:16:18.083Z"
   },
   {
    "duration": 31,
    "start_time": "2022-11-19T11:16:18.107Z"
   },
   {
    "duration": 14,
    "start_time": "2022-11-19T11:16:18.139Z"
   },
   {
    "duration": 30,
    "start_time": "2022-11-19T11:16:18.155Z"
   },
   {
    "duration": 26,
    "start_time": "2022-11-19T11:16:18.186Z"
   },
   {
    "duration": 362,
    "start_time": "2022-11-19T11:16:18.213Z"
   },
   {
    "duration": 22,
    "start_time": "2022-11-19T11:16:18.577Z"
   },
   {
    "duration": 0,
    "start_time": "2022-11-19T11:16:18.601Z"
   },
   {
    "duration": 0,
    "start_time": "2022-11-19T11:16:18.602Z"
   },
   {
    "duration": 0,
    "start_time": "2022-11-19T11:16:18.604Z"
   },
   {
    "duration": 0,
    "start_time": "2022-11-19T11:16:18.605Z"
   },
   {
    "duration": 0,
    "start_time": "2022-11-19T11:16:18.621Z"
   },
   {
    "duration": 0,
    "start_time": "2022-11-19T11:16:18.622Z"
   },
   {
    "duration": 0,
    "start_time": "2022-11-19T11:16:18.624Z"
   },
   {
    "duration": 0,
    "start_time": "2022-11-19T11:16:18.624Z"
   },
   {
    "duration": 0,
    "start_time": "2022-11-19T11:16:18.626Z"
   },
   {
    "duration": 18,
    "start_time": "2022-11-19T11:17:17.918Z"
   },
   {
    "duration": 1087,
    "start_time": "2022-11-19T11:17:37.127Z"
   },
   {
    "duration": 50,
    "start_time": "2022-11-19T11:17:38.216Z"
   },
   {
    "duration": 69,
    "start_time": "2022-11-19T11:17:38.268Z"
   },
   {
    "duration": 4,
    "start_time": "2022-11-19T11:17:38.338Z"
   },
   {
    "duration": 6,
    "start_time": "2022-11-19T11:17:38.344Z"
   },
   {
    "duration": 5,
    "start_time": "2022-11-19T11:17:38.351Z"
   },
   {
    "duration": 11,
    "start_time": "2022-11-19T11:17:38.357Z"
   },
   {
    "duration": 671,
    "start_time": "2022-11-19T11:17:38.369Z"
   },
   {
    "duration": 7,
    "start_time": "2022-11-19T11:17:39.042Z"
   },
   {
    "duration": 9,
    "start_time": "2022-11-19T11:17:39.050Z"
   },
   {
    "duration": 12,
    "start_time": "2022-11-19T11:17:39.060Z"
   },
   {
    "duration": 5,
    "start_time": "2022-11-19T11:17:39.074Z"
   },
   {
    "duration": 12,
    "start_time": "2022-11-19T11:17:39.080Z"
   },
   {
    "duration": 33,
    "start_time": "2022-11-19T11:17:39.094Z"
   },
   {
    "duration": 7,
    "start_time": "2022-11-19T11:17:39.129Z"
   },
   {
    "duration": 4,
    "start_time": "2022-11-19T11:17:39.137Z"
   },
   {
    "duration": 125,
    "start_time": "2022-11-19T11:17:39.142Z"
   },
   {
    "duration": 17,
    "start_time": "2022-11-19T11:17:39.268Z"
   },
   {
    "duration": 12,
    "start_time": "2022-11-19T11:17:39.287Z"
   },
   {
    "duration": 21,
    "start_time": "2022-11-19T11:17:39.300Z"
   },
   {
    "duration": 19,
    "start_time": "2022-11-19T11:17:39.323Z"
   },
   {
    "duration": 5,
    "start_time": "2022-11-19T11:17:39.344Z"
   },
   {
    "duration": 22,
    "start_time": "2022-11-19T11:17:39.351Z"
   },
   {
    "duration": 12,
    "start_time": "2022-11-19T11:17:39.375Z"
   },
   {
    "duration": 329,
    "start_time": "2022-11-19T11:17:39.388Z"
   },
   {
    "duration": 106,
    "start_time": "2022-11-19T11:17:39.718Z"
   },
   {
    "duration": 0,
    "start_time": "2022-11-19T11:17:39.826Z"
   },
   {
    "duration": 0,
    "start_time": "2022-11-19T11:17:39.828Z"
   },
   {
    "duration": 0,
    "start_time": "2022-11-19T11:17:39.829Z"
   },
   {
    "duration": 0,
    "start_time": "2022-11-19T11:17:39.830Z"
   },
   {
    "duration": 0,
    "start_time": "2022-11-19T11:17:39.831Z"
   },
   {
    "duration": 0,
    "start_time": "2022-11-19T11:17:39.832Z"
   },
   {
    "duration": 0,
    "start_time": "2022-11-19T11:17:39.834Z"
   },
   {
    "duration": 0,
    "start_time": "2022-11-19T11:17:39.835Z"
   },
   {
    "duration": 0,
    "start_time": "2022-11-19T11:17:39.836Z"
   },
   {
    "duration": 0,
    "start_time": "2022-11-19T11:17:39.838Z"
   },
   {
    "duration": 0,
    "start_time": "2022-11-19T11:17:39.839Z"
   },
   {
    "duration": 0,
    "start_time": "2022-11-19T11:17:39.840Z"
   },
   {
    "duration": 0,
    "start_time": "2022-11-19T11:17:39.842Z"
   },
   {
    "duration": 0,
    "start_time": "2022-11-19T11:17:39.843Z"
   },
   {
    "duration": 0,
    "start_time": "2022-11-19T11:17:39.844Z"
   },
   {
    "duration": 0,
    "start_time": "2022-11-19T11:17:39.845Z"
   },
   {
    "duration": 0,
    "start_time": "2022-11-19T11:17:39.846Z"
   },
   {
    "duration": 0,
    "start_time": "2022-11-19T11:17:39.847Z"
   },
   {
    "duration": 0,
    "start_time": "2022-11-19T11:17:39.848Z"
   },
   {
    "duration": 0,
    "start_time": "2022-11-19T11:17:39.850Z"
   },
   {
    "duration": 0,
    "start_time": "2022-11-19T11:17:39.851Z"
   },
   {
    "duration": 0,
    "start_time": "2022-11-19T11:17:39.852Z"
   },
   {
    "duration": 0,
    "start_time": "2022-11-19T11:17:39.853Z"
   },
   {
    "duration": 1,
    "start_time": "2022-11-19T11:17:39.853Z"
   },
   {
    "duration": 0,
    "start_time": "2022-11-19T11:17:39.855Z"
   },
   {
    "duration": 5,
    "start_time": "2022-11-19T11:18:28.344Z"
   },
   {
    "duration": 1067,
    "start_time": "2022-11-19T11:19:35.836Z"
   },
   {
    "duration": 50,
    "start_time": "2022-11-19T11:19:36.905Z"
   },
   {
    "duration": 72,
    "start_time": "2022-11-19T11:19:36.956Z"
   },
   {
    "duration": 3,
    "start_time": "2022-11-19T11:19:37.030Z"
   },
   {
    "duration": 12,
    "start_time": "2022-11-19T11:19:37.034Z"
   },
   {
    "duration": 7,
    "start_time": "2022-11-19T11:19:37.047Z"
   },
   {
    "duration": 14,
    "start_time": "2022-11-19T11:19:37.056Z"
   },
   {
    "duration": 634,
    "start_time": "2022-11-19T11:19:37.071Z"
   },
   {
    "duration": 7,
    "start_time": "2022-11-19T11:19:37.707Z"
   },
   {
    "duration": 6,
    "start_time": "2022-11-19T11:19:37.720Z"
   },
   {
    "duration": 10,
    "start_time": "2022-11-19T11:19:37.727Z"
   },
   {
    "duration": 5,
    "start_time": "2022-11-19T11:19:37.738Z"
   },
   {
    "duration": 11,
    "start_time": "2022-11-19T11:19:37.744Z"
   },
   {
    "duration": 19,
    "start_time": "2022-11-19T11:19:37.756Z"
   },
   {
    "duration": 5,
    "start_time": "2022-11-19T11:19:37.777Z"
   },
   {
    "duration": 3,
    "start_time": "2022-11-19T11:19:37.784Z"
   },
   {
    "duration": 139,
    "start_time": "2022-11-19T11:19:37.789Z"
   },
   {
    "duration": 20,
    "start_time": "2022-11-19T11:19:37.930Z"
   },
   {
    "duration": 7,
    "start_time": "2022-11-19T11:19:37.952Z"
   },
   {
    "duration": 5,
    "start_time": "2022-11-19T11:19:37.960Z"
   },
   {
    "duration": 16,
    "start_time": "2022-11-19T11:19:37.966Z"
   },
   {
    "duration": 3,
    "start_time": "2022-11-19T11:19:37.984Z"
   },
   {
    "duration": 33,
    "start_time": "2022-11-19T11:19:37.989Z"
   },
   {
    "duration": 10,
    "start_time": "2022-11-19T11:19:38.023Z"
   },
   {
    "duration": 347,
    "start_time": "2022-11-19T11:19:38.034Z"
   },
   {
    "duration": 108,
    "start_time": "2022-11-19T11:19:38.382Z"
   },
   {
    "duration": 0,
    "start_time": "2022-11-19T11:19:38.492Z"
   },
   {
    "duration": 0,
    "start_time": "2022-11-19T11:19:38.493Z"
   },
   {
    "duration": 0,
    "start_time": "2022-11-19T11:19:38.495Z"
   },
   {
    "duration": 0,
    "start_time": "2022-11-19T11:19:38.496Z"
   },
   {
    "duration": 0,
    "start_time": "2022-11-19T11:19:38.497Z"
   },
   {
    "duration": 0,
    "start_time": "2022-11-19T11:19:38.498Z"
   },
   {
    "duration": 0,
    "start_time": "2022-11-19T11:19:38.499Z"
   },
   {
    "duration": 0,
    "start_time": "2022-11-19T11:19:38.500Z"
   },
   {
    "duration": 1,
    "start_time": "2022-11-19T11:19:38.500Z"
   },
   {
    "duration": 0,
    "start_time": "2022-11-19T11:19:38.521Z"
   },
   {
    "duration": 0,
    "start_time": "2022-11-19T11:19:38.522Z"
   },
   {
    "duration": 0,
    "start_time": "2022-11-19T11:19:38.524Z"
   },
   {
    "duration": 0,
    "start_time": "2022-11-19T11:19:38.525Z"
   },
   {
    "duration": 0,
    "start_time": "2022-11-19T11:19:38.526Z"
   },
   {
    "duration": 0,
    "start_time": "2022-11-19T11:19:38.527Z"
   },
   {
    "duration": 0,
    "start_time": "2022-11-19T11:19:38.528Z"
   },
   {
    "duration": 0,
    "start_time": "2022-11-19T11:19:38.529Z"
   },
   {
    "duration": 0,
    "start_time": "2022-11-19T11:19:38.530Z"
   },
   {
    "duration": 0,
    "start_time": "2022-11-19T11:19:38.532Z"
   },
   {
    "duration": 0,
    "start_time": "2022-11-19T11:19:38.533Z"
   },
   {
    "duration": 0,
    "start_time": "2022-11-19T11:19:38.534Z"
   },
   {
    "duration": 0,
    "start_time": "2022-11-19T11:19:38.535Z"
   },
   {
    "duration": 0,
    "start_time": "2022-11-19T11:19:38.536Z"
   },
   {
    "duration": 0,
    "start_time": "2022-11-19T11:19:38.537Z"
   },
   {
    "duration": 0,
    "start_time": "2022-11-19T11:19:38.538Z"
   },
   {
    "duration": 5,
    "start_time": "2022-11-19T11:20:02.540Z"
   },
   {
    "duration": 3,
    "start_time": "2022-11-19T11:20:11.476Z"
   },
   {
    "duration": 50,
    "start_time": "2022-11-19T11:20:12.570Z"
   },
   {
    "duration": 61,
    "start_time": "2022-11-19T11:20:13.938Z"
   },
   {
    "duration": 5,
    "start_time": "2022-11-19T11:20:23.093Z"
   },
   {
    "duration": 5,
    "start_time": "2022-11-19T11:20:26.108Z"
   },
   {
    "duration": 4,
    "start_time": "2022-11-19T11:20:30.012Z"
   },
   {
    "duration": 6,
    "start_time": "2022-11-19T11:20:32.742Z"
   },
   {
    "duration": 617,
    "start_time": "2022-11-19T11:20:35.762Z"
   },
   {
    "duration": 11,
    "start_time": "2022-11-19T11:20:38.102Z"
   },
   {
    "duration": 6,
    "start_time": "2022-11-19T11:20:40.514Z"
   },
   {
    "duration": 9,
    "start_time": "2022-11-19T11:20:44.366Z"
   },
   {
    "duration": 4,
    "start_time": "2022-11-19T11:20:49.109Z"
   },
   {
    "duration": 8,
    "start_time": "2022-11-19T11:20:50.673Z"
   },
   {
    "duration": 19,
    "start_time": "2022-11-19T11:20:53.054Z"
   },
   {
    "duration": 8,
    "start_time": "2022-11-19T11:20:56.566Z"
   },
   {
    "duration": 4,
    "start_time": "2022-11-19T11:20:59.288Z"
   },
   {
    "duration": 137,
    "start_time": "2022-11-19T11:21:01.253Z"
   },
   {
    "duration": 19,
    "start_time": "2022-11-19T11:21:03.404Z"
   },
   {
    "duration": 7,
    "start_time": "2022-11-19T11:21:06.305Z"
   },
   {
    "duration": 5,
    "start_time": "2022-11-19T11:21:09.802Z"
   },
   {
    "duration": 14,
    "start_time": "2022-11-19T11:21:12.170Z"
   },
   {
    "duration": 5,
    "start_time": "2022-11-19T11:21:13.458Z"
   },
   {
    "duration": 5,
    "start_time": "2022-11-19T11:21:15.174Z"
   },
   {
    "duration": 3,
    "start_time": "2022-11-19T11:22:00.101Z"
   },
   {
    "duration": 86,
    "start_time": "2022-11-19T11:22:00.105Z"
   },
   {
    "duration": 65,
    "start_time": "2022-11-19T11:22:00.193Z"
   },
   {
    "duration": 4,
    "start_time": "2022-11-19T11:22:00.260Z"
   },
   {
    "duration": 17,
    "start_time": "2022-11-19T11:22:00.266Z"
   },
   {
    "duration": 30,
    "start_time": "2022-11-19T11:22:00.285Z"
   },
   {
    "duration": 35,
    "start_time": "2022-11-19T11:22:00.317Z"
   },
   {
    "duration": 661,
    "start_time": "2022-11-19T11:22:00.353Z"
   },
   {
    "duration": 9,
    "start_time": "2022-11-19T11:22:01.016Z"
   },
   {
    "duration": 25,
    "start_time": "2022-11-19T11:22:01.027Z"
   },
   {
    "duration": 31,
    "start_time": "2022-11-19T11:22:01.054Z"
   },
   {
    "duration": 7,
    "start_time": "2022-11-19T11:22:01.086Z"
   },
   {
    "duration": 17,
    "start_time": "2022-11-19T11:22:01.094Z"
   },
   {
    "duration": 21,
    "start_time": "2022-11-19T11:22:01.113Z"
   },
   {
    "duration": 13,
    "start_time": "2022-11-19T11:22:01.135Z"
   },
   {
    "duration": 9,
    "start_time": "2022-11-19T11:22:01.150Z"
   },
   {
    "duration": 131,
    "start_time": "2022-11-19T11:22:01.161Z"
   },
   {
    "duration": 20,
    "start_time": "2022-11-19T11:22:01.294Z"
   },
   {
    "duration": 7,
    "start_time": "2022-11-19T11:22:01.321Z"
   },
   {
    "duration": 5,
    "start_time": "2022-11-19T11:22:10.790Z"
   },
   {
    "duration": 5,
    "start_time": "2022-11-19T11:22:12.870Z"
   },
   {
    "duration": 15,
    "start_time": "2022-11-19T11:22:19.942Z"
   },
   {
    "duration": 5,
    "start_time": "2022-11-19T11:22:21.672Z"
   },
   {
    "duration": 5,
    "start_time": "2022-11-19T11:22:23.268Z"
   },
   {
    "duration": 1096,
    "start_time": "2022-11-19T11:24:47.308Z"
   },
   {
    "duration": 52,
    "start_time": "2022-11-19T11:24:48.405Z"
   },
   {
    "duration": 65,
    "start_time": "2022-11-19T11:24:48.459Z"
   },
   {
    "duration": 4,
    "start_time": "2022-11-19T11:24:48.526Z"
   },
   {
    "duration": 8,
    "start_time": "2022-11-19T11:24:48.531Z"
   },
   {
    "duration": 6,
    "start_time": "2022-11-19T11:24:48.540Z"
   },
   {
    "duration": 9,
    "start_time": "2022-11-19T11:24:48.547Z"
   },
   {
    "duration": 675,
    "start_time": "2022-11-19T11:24:48.558Z"
   },
   {
    "duration": 9,
    "start_time": "2022-11-19T11:24:49.235Z"
   },
   {
    "duration": 7,
    "start_time": "2022-11-19T11:24:49.246Z"
   },
   {
    "duration": 11,
    "start_time": "2022-11-19T11:24:49.254Z"
   },
   {
    "duration": 5,
    "start_time": "2022-11-19T11:24:49.266Z"
   },
   {
    "duration": 9,
    "start_time": "2022-11-19T11:24:49.272Z"
   },
   {
    "duration": 44,
    "start_time": "2022-11-19T11:24:49.283Z"
   },
   {
    "duration": 8,
    "start_time": "2022-11-19T11:24:49.329Z"
   },
   {
    "duration": 6,
    "start_time": "2022-11-19T11:24:49.338Z"
   },
   {
    "duration": 136,
    "start_time": "2022-11-19T11:24:49.346Z"
   },
   {
    "duration": 20,
    "start_time": "2022-11-19T11:24:49.484Z"
   },
   {
    "duration": 18,
    "start_time": "2022-11-19T11:24:49.505Z"
   },
   {
    "duration": 4,
    "start_time": "2022-11-19T11:24:49.525Z"
   },
   {
    "duration": 4,
    "start_time": "2022-11-19T11:24:49.531Z"
   },
   {
    "duration": 15,
    "start_time": "2022-11-19T11:24:49.537Z"
   },
   {
    "duration": 5,
    "start_time": "2022-11-19T11:24:49.553Z"
   },
   {
    "duration": 7,
    "start_time": "2022-11-19T11:24:49.559Z"
   },
   {
    "duration": 7,
    "start_time": "2022-11-19T11:24:49.567Z"
   },
   {
    "duration": 351,
    "start_time": "2022-11-19T11:24:49.575Z"
   },
   {
    "duration": 111,
    "start_time": "2022-11-19T11:24:49.928Z"
   },
   {
    "duration": 0,
    "start_time": "2022-11-19T11:24:50.042Z"
   },
   {
    "duration": 0,
    "start_time": "2022-11-19T11:24:50.043Z"
   },
   {
    "duration": 0,
    "start_time": "2022-11-19T11:24:50.044Z"
   },
   {
    "duration": 0,
    "start_time": "2022-11-19T11:24:50.046Z"
   },
   {
    "duration": 0,
    "start_time": "2022-11-19T11:24:50.047Z"
   },
   {
    "duration": 0,
    "start_time": "2022-11-19T11:24:50.048Z"
   },
   {
    "duration": 0,
    "start_time": "2022-11-19T11:24:50.049Z"
   },
   {
    "duration": 0,
    "start_time": "2022-11-19T11:24:50.050Z"
   },
   {
    "duration": 0,
    "start_time": "2022-11-19T11:24:50.051Z"
   },
   {
    "duration": 0,
    "start_time": "2022-11-19T11:24:50.052Z"
   },
   {
    "duration": 0,
    "start_time": "2022-11-19T11:24:50.053Z"
   },
   {
    "duration": 0,
    "start_time": "2022-11-19T11:24:50.054Z"
   },
   {
    "duration": 0,
    "start_time": "2022-11-19T11:24:50.055Z"
   },
   {
    "duration": 0,
    "start_time": "2022-11-19T11:24:50.056Z"
   },
   {
    "duration": 0,
    "start_time": "2022-11-19T11:24:50.057Z"
   },
   {
    "duration": 0,
    "start_time": "2022-11-19T11:24:50.057Z"
   },
   {
    "duration": 0,
    "start_time": "2022-11-19T11:24:50.058Z"
   },
   {
    "duration": 0,
    "start_time": "2022-11-19T11:24:50.059Z"
   },
   {
    "duration": 0,
    "start_time": "2022-11-19T11:24:50.060Z"
   },
   {
    "duration": 0,
    "start_time": "2022-11-19T11:24:50.062Z"
   },
   {
    "duration": 0,
    "start_time": "2022-11-19T11:24:50.062Z"
   },
   {
    "duration": 0,
    "start_time": "2022-11-19T11:24:50.063Z"
   },
   {
    "duration": 0,
    "start_time": "2022-11-19T11:24:50.064Z"
   },
   {
    "duration": 0,
    "start_time": "2022-11-19T11:24:50.065Z"
   },
   {
    "duration": 0,
    "start_time": "2022-11-19T11:24:50.066Z"
   },
   {
    "duration": 1075,
    "start_time": "2022-11-19T11:27:48.633Z"
   },
   {
    "duration": 51,
    "start_time": "2022-11-19T11:27:49.710Z"
   },
   {
    "duration": 70,
    "start_time": "2022-11-19T11:27:49.762Z"
   },
   {
    "duration": 4,
    "start_time": "2022-11-19T11:27:49.833Z"
   },
   {
    "duration": 7,
    "start_time": "2022-11-19T11:27:49.838Z"
   },
   {
    "duration": 10,
    "start_time": "2022-11-19T11:27:49.846Z"
   },
   {
    "duration": 8,
    "start_time": "2022-11-19T11:27:49.858Z"
   },
   {
    "duration": 647,
    "start_time": "2022-11-19T11:27:49.868Z"
   },
   {
    "duration": 9,
    "start_time": "2022-11-19T11:27:50.516Z"
   },
   {
    "duration": 7,
    "start_time": "2022-11-19T11:27:50.527Z"
   },
   {
    "duration": 11,
    "start_time": "2022-11-19T11:27:50.535Z"
   },
   {
    "duration": 6,
    "start_time": "2022-11-19T11:27:50.547Z"
   },
   {
    "duration": 12,
    "start_time": "2022-11-19T11:27:50.554Z"
   },
   {
    "duration": 19,
    "start_time": "2022-11-19T11:27:50.568Z"
   },
   {
    "duration": 7,
    "start_time": "2022-11-19T11:27:50.589Z"
   },
   {
    "duration": 27,
    "start_time": "2022-11-19T11:27:50.597Z"
   },
   {
    "duration": 131,
    "start_time": "2022-11-19T11:27:50.626Z"
   },
   {
    "duration": 19,
    "start_time": "2022-11-19T11:27:50.758Z"
   },
   {
    "duration": 10,
    "start_time": "2022-11-19T11:27:50.779Z"
   },
   {
    "duration": 5,
    "start_time": "2022-11-19T11:27:50.791Z"
   },
   {
    "duration": 24,
    "start_time": "2022-11-19T11:27:50.798Z"
   },
   {
    "duration": 7,
    "start_time": "2022-11-19T11:27:50.823Z"
   },
   {
    "duration": 13,
    "start_time": "2022-11-19T11:27:50.831Z"
   },
   {
    "duration": 5,
    "start_time": "2022-11-19T11:27:50.846Z"
   },
   {
    "duration": 6,
    "start_time": "2022-11-19T11:27:50.853Z"
   },
   {
    "duration": 315,
    "start_time": "2022-11-19T11:27:50.861Z"
   },
   {
    "duration": 270,
    "start_time": "2022-11-19T11:27:51.177Z"
   },
   {
    "duration": 181,
    "start_time": "2022-11-19T11:27:51.450Z"
   },
   {
    "duration": 6,
    "start_time": "2022-11-19T11:27:51.633Z"
   },
   {
    "duration": 8,
    "start_time": "2022-11-19T11:27:51.640Z"
   },
   {
    "duration": 272,
    "start_time": "2022-11-19T11:27:51.649Z"
   },
   {
    "duration": 159,
    "start_time": "2022-11-19T11:27:51.923Z"
   },
   {
    "duration": 1046,
    "start_time": "2022-11-19T11:27:52.083Z"
   },
   {
    "duration": 5,
    "start_time": "2022-11-19T11:27:53.131Z"
   },
   {
    "duration": 27,
    "start_time": "2022-11-19T11:27:53.137Z"
   },
   {
    "duration": 276,
    "start_time": "2022-11-19T11:27:53.165Z"
   },
   {
    "duration": 8,
    "start_time": "2022-11-19T11:27:53.443Z"
   },
   {
    "duration": 142,
    "start_time": "2022-11-19T11:27:53.452Z"
   },
   {
    "duration": 10,
    "start_time": "2022-11-19T11:27:53.596Z"
   },
   {
    "duration": 137,
    "start_time": "2022-11-19T11:27:53.608Z"
   },
   {
    "duration": 337,
    "start_time": "2022-11-19T11:27:53.747Z"
   },
   {
    "duration": 360,
    "start_time": "2022-11-19T11:27:54.086Z"
   },
   {
    "duration": 220,
    "start_time": "2022-11-19T11:27:54.448Z"
   },
   {
    "duration": 268,
    "start_time": "2022-11-19T11:27:54.670Z"
   },
   {
    "duration": 172,
    "start_time": "2022-11-19T11:27:54.940Z"
   },
   {
    "duration": 11,
    "start_time": "2022-11-19T11:27:55.114Z"
   },
   {
    "duration": 164,
    "start_time": "2022-11-19T11:27:55.127Z"
   },
   {
    "duration": 6,
    "start_time": "2022-11-19T11:27:55.293Z"
   },
   {
    "duration": 21,
    "start_time": "2022-11-19T11:27:55.300Z"
   },
   {
    "duration": 162,
    "start_time": "2022-11-19T11:27:55.323Z"
   },
   {
    "duration": 5,
    "start_time": "2022-11-19T11:27:55.487Z"
   },
   {
    "duration": 9,
    "start_time": "2022-11-19T11:27:55.494Z"
   },
   {
    "duration": 259,
    "start_time": "2022-11-19T11:28:55.570Z"
   },
   {
    "duration": 362,
    "start_time": "2022-11-19T11:29:04.432Z"
   },
   {
    "duration": 343,
    "start_time": "2022-11-19T11:44:39.409Z"
   },
   {
    "duration": 297,
    "start_time": "2022-11-19T11:45:10.177Z"
   },
   {
    "duration": 307,
    "start_time": "2022-11-19T11:45:24.915Z"
   },
   {
    "duration": 575,
    "start_time": "2022-11-19T11:46:47.051Z"
   },
   {
    "duration": 702,
    "start_time": "2022-11-19T11:47:01.302Z"
   },
   {
    "duration": 562,
    "start_time": "2022-11-19T11:48:22.093Z"
   },
   {
    "duration": 628,
    "start_time": "2022-11-19T11:48:35.116Z"
   },
   {
    "duration": 662,
    "start_time": "2022-11-19T11:50:04.087Z"
   },
   {
    "duration": 231,
    "start_time": "2022-11-19T12:13:29.037Z"
   },
   {
    "duration": 282,
    "start_time": "2022-11-19T12:13:42.551Z"
   },
   {
    "duration": 300,
    "start_time": "2022-11-19T12:18:23.611Z"
   },
   {
    "duration": 239,
    "start_time": "2022-11-19T12:18:53.783Z"
   },
   {
    "duration": 343,
    "start_time": "2022-11-19T12:20:03.920Z"
   },
   {
    "duration": 412,
    "start_time": "2022-11-19T12:20:36.896Z"
   },
   {
    "duration": 158,
    "start_time": "2022-11-19T13:08:12.293Z"
   },
   {
    "duration": 1074,
    "start_time": "2022-11-19T13:14:02.541Z"
   },
   {
    "duration": 50,
    "start_time": "2022-11-19T13:14:03.617Z"
   },
   {
    "duration": 65,
    "start_time": "2022-11-19T13:14:03.669Z"
   },
   {
    "duration": 4,
    "start_time": "2022-11-19T13:14:03.736Z"
   },
   {
    "duration": 23,
    "start_time": "2022-11-19T13:14:03.741Z"
   },
   {
    "duration": 17,
    "start_time": "2022-11-19T13:14:03.765Z"
   },
   {
    "duration": 30,
    "start_time": "2022-11-19T13:14:03.784Z"
   },
   {
    "duration": 659,
    "start_time": "2022-11-19T13:14:03.816Z"
   },
   {
    "duration": 7,
    "start_time": "2022-11-19T13:14:04.476Z"
   },
   {
    "duration": 19,
    "start_time": "2022-11-19T13:14:04.485Z"
   },
   {
    "duration": 30,
    "start_time": "2022-11-19T13:14:04.506Z"
   },
   {
    "duration": 23,
    "start_time": "2022-11-19T13:14:04.538Z"
   },
   {
    "duration": 21,
    "start_time": "2022-11-19T13:14:04.563Z"
   },
   {
    "duration": 32,
    "start_time": "2022-11-19T13:14:04.585Z"
   },
   {
    "duration": 31,
    "start_time": "2022-11-19T13:14:04.618Z"
   },
   {
    "duration": 27,
    "start_time": "2022-11-19T13:14:04.650Z"
   },
   {
    "duration": 127,
    "start_time": "2022-11-19T13:14:04.678Z"
   },
   {
    "duration": 25,
    "start_time": "2022-11-19T13:14:04.806Z"
   },
   {
    "duration": 22,
    "start_time": "2022-11-19T13:14:04.832Z"
   },
   {
    "duration": 33,
    "start_time": "2022-11-19T13:14:04.856Z"
   },
   {
    "duration": 15,
    "start_time": "2022-11-19T13:14:04.891Z"
   },
   {
    "duration": 32,
    "start_time": "2022-11-19T13:14:04.907Z"
   },
   {
    "duration": 37,
    "start_time": "2022-11-19T13:14:04.941Z"
   },
   {
    "duration": 22,
    "start_time": "2022-11-19T13:14:04.979Z"
   },
   {
    "duration": 30,
    "start_time": "2022-11-19T13:14:05.003Z"
   },
   {
    "duration": 351,
    "start_time": "2022-11-19T13:14:05.034Z"
   },
   {
    "duration": 306,
    "start_time": "2022-11-19T13:14:05.387Z"
   },
   {
    "duration": 167,
    "start_time": "2022-11-19T13:14:05.696Z"
   },
   {
    "duration": 7,
    "start_time": "2022-11-19T13:14:05.864Z"
   },
   {
    "duration": 7,
    "start_time": "2022-11-19T13:14:05.872Z"
   },
   {
    "duration": 263,
    "start_time": "2022-11-19T13:14:05.880Z"
   },
   {
    "duration": 162,
    "start_time": "2022-11-19T13:14:06.145Z"
   },
   {
    "duration": 981,
    "start_time": "2022-11-19T13:14:06.308Z"
   },
   {
    "duration": 6,
    "start_time": "2022-11-19T13:14:07.291Z"
   },
   {
    "duration": 29,
    "start_time": "2022-11-19T13:14:07.298Z"
   },
   {
    "duration": 285,
    "start_time": "2022-11-19T13:14:07.329Z"
   },
   {
    "duration": 11,
    "start_time": "2022-11-19T13:14:07.616Z"
   },
   {
    "duration": 138,
    "start_time": "2022-11-19T13:14:07.628Z"
   },
   {
    "duration": 8,
    "start_time": "2022-11-19T13:14:07.768Z"
   },
   {
    "duration": 146,
    "start_time": "2022-11-19T13:14:07.777Z"
   },
   {
    "duration": 679,
    "start_time": "2022-11-19T13:14:07.924Z"
   },
   {
    "duration": 251,
    "start_time": "2022-11-19T13:14:08.605Z"
   },
   {
    "duration": 335,
    "start_time": "2022-11-19T13:14:08.857Z"
   },
   {
    "duration": 204,
    "start_time": "2022-11-19T13:14:09.193Z"
   },
   {
    "duration": 247,
    "start_time": "2022-11-19T13:14:09.399Z"
   },
   {
    "duration": 177,
    "start_time": "2022-11-19T13:14:09.647Z"
   },
   {
    "duration": 9,
    "start_time": "2022-11-19T13:14:09.825Z"
   },
   {
    "duration": 138,
    "start_time": "2022-11-19T13:14:09.835Z"
   },
   {
    "duration": 5,
    "start_time": "2022-11-19T13:14:09.975Z"
   },
   {
    "duration": 14,
    "start_time": "2022-11-19T13:14:09.981Z"
   },
   {
    "duration": 210,
    "start_time": "2022-11-19T13:14:09.996Z"
   },
   {
    "duration": 13,
    "start_time": "2022-11-19T13:14:10.208Z"
   },
   {
    "duration": 4,
    "start_time": "2022-11-19T13:14:10.222Z"
   },
   {
    "duration": 1494,
    "start_time": "2022-11-19T14:35:04.426Z"
   },
   {
    "duration": 185,
    "start_time": "2022-11-19T14:35:05.922Z"
   },
   {
    "duration": 77,
    "start_time": "2022-11-19T14:35:06.109Z"
   },
   {
    "duration": 4,
    "start_time": "2022-11-19T14:35:06.188Z"
   },
   {
    "duration": 9,
    "start_time": "2022-11-19T14:35:06.193Z"
   },
   {
    "duration": 6,
    "start_time": "2022-11-19T14:35:06.203Z"
   },
   {
    "duration": 7,
    "start_time": "2022-11-19T14:35:06.211Z"
   },
   {
    "duration": 792,
    "start_time": "2022-11-19T14:35:06.220Z"
   },
   {
    "duration": 12,
    "start_time": "2022-11-19T14:35:07.014Z"
   },
   {
    "duration": 10,
    "start_time": "2022-11-19T14:35:07.030Z"
   },
   {
    "duration": 34,
    "start_time": "2022-11-19T14:35:07.043Z"
   },
   {
    "duration": 13,
    "start_time": "2022-11-19T14:35:07.081Z"
   },
   {
    "duration": 26,
    "start_time": "2022-11-19T14:35:07.096Z"
   },
   {
    "duration": 9,
    "start_time": "2022-11-19T14:35:07.123Z"
   },
   {
    "duration": 7,
    "start_time": "2022-11-19T14:35:07.134Z"
   },
   {
    "duration": 160,
    "start_time": "2022-11-19T14:35:07.143Z"
   },
   {
    "duration": 21,
    "start_time": "2022-11-19T14:35:07.305Z"
   },
   {
    "duration": 11,
    "start_time": "2022-11-19T14:35:07.328Z"
   },
   {
    "duration": 49,
    "start_time": "2022-11-19T14:35:07.341Z"
   },
   {
    "duration": 35,
    "start_time": "2022-11-19T14:35:07.392Z"
   },
   {
    "duration": 48,
    "start_time": "2022-11-19T14:35:07.429Z"
   },
   {
    "duration": 23,
    "start_time": "2022-11-19T14:35:07.478Z"
   },
   {
    "duration": 48,
    "start_time": "2022-11-19T14:35:07.502Z"
   },
   {
    "duration": 27,
    "start_time": "2022-11-19T14:35:07.551Z"
   },
   {
    "duration": 6,
    "start_time": "2022-11-19T14:35:19.910Z"
   },
   {
    "duration": 9,
    "start_time": "2022-11-19T14:35:26.369Z"
   },
   {
    "duration": 8,
    "start_time": "2022-11-19T14:35:30.844Z"
   },
   {
    "duration": 7,
    "start_time": "2022-11-19T14:35:41.064Z"
   },
   {
    "duration": 7,
    "start_time": "2022-11-19T14:35:51.171Z"
   }
  ],
  "kernelspec": {
   "display_name": "Python 3 (ipykernel)",
   "language": "python",
   "name": "python3"
  },
  "language_info": {
   "codemirror_mode": {
    "name": "ipython",
    "version": 3
   },
   "file_extension": ".py",
   "mimetype": "text/x-python",
   "name": "python",
   "nbconvert_exporter": "python",
   "pygments_lexer": "ipython3",
   "version": "3.9.13"
  },
  "toc": {
   "base_numbering": 1,
   "nav_menu": {},
   "number_sections": true,
   "sideBar": true,
   "skip_h1_title": true,
   "title_cell": "Table of Contents",
   "title_sidebar": "Contents",
   "toc_cell": false,
   "toc_position": {},
   "toc_section_display": true,
   "toc_window_display": false
  }
 },
 "nbformat": 4,
 "nbformat_minor": 5
}
